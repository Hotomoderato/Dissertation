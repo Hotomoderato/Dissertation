{
 "cells": [
  {
   "cell_type": "code",
   "execution_count": 1,
   "metadata": {
    "pycharm": {
     "is_executing": false
    },
    "tags": []
   },
   "outputs": [],
   "source": [
    "import pandas as pd\n",
    "import numpy as np\n",
    "from sklearn.preprocessing import LabelEncoder\n",
    "from sklearn.model_selection import train_test_split\n",
    "from sklearn.metrics import mean_squared_error\n",
    "from sklearn.metrics import r2_score\n",
    "from sklearn.model_selection import GridSearchCV\n",
    "from sklearn.preprocessing import StandardScaler\n",
    "from sklearn.decomposition import PCA\n",
    "from sklearn.pipeline import make_pipeline\n",
    "import matplotlib.pyplot as plt\n",
    "\n",
    "import warnings \n",
    "warnings.filterwarnings('ignore') "
   ]
  },
  {
   "cell_type": "code",
   "execution_count": 2,
   "metadata": {
    "pycharm": {
     "is_executing": false,
     "name": "#%%\n"
    }
   },
   "outputs": [
    {
     "output_type": "stream",
     "name": "stdout",
     "text": [
      "       Date   М1, t   М2, t  ΔМ, t  Т1, °C  Т2, °C  ΔТ, °C  Q, Gcal  USPD  \\\n0  2015/1/1  120.51  120.83  -0.32   83.51   48.85   34.65     4.18     3   \n1  2015/1/1  123.61  124.93  -1.32   85.14   51.34   33.80     4.19     4   \n2  2015/1/1  129.96  129.04   0.93   85.63   51.78   33.85     4.41    12   \n3  2015/1/1  102.04   84.42  17.61   85.83   53.30   32.52     3.33    18   \n4  2015/1/1  169.23  172.24  -3.02   84.18   56.15   28.03     4.76    19   \n\n   YYYYMM          registrated  scheme  type     area  floors walls material  \\\n0  201501  Heating + Hot water  closed  2105  3358.40       5          brick   \n1  201501  Heating + Hot water  closed  2105  3153.50       5          brick   \n2  201501  Heating + Hot water  closed  2105  3187.50       5          brick   \n3  201501  Heating + Hot water  opened  1105  2509.35       5          brick   \n4  201501  Heating + Hot water  closed  2109  3574.70       9          brick   \n\n   year of construction  area of building   temp,˚C  \n0                  1974           3610.40 -4.959921  \n1                  1975           3150.20 -4.959921  \n2                  1976           3456.20 -4.959921  \n3                  1967           3382.25 -4.959921  \n4                  1982           5138.10 -4.959921  \n"
     ]
    }
   ],
   "source": [
    "i3e_data=pd.read_csv('/Users/han/Desktop/CASA/CASA0006 Data Science/Exercise/Dissertation/step1.csv')\n",
    "print(i3e_data.head())"
   ]
  },
  {
   "cell_type": "code",
   "execution_count": 3,
   "metadata": {},
   "outputs": [
    {
     "output_type": "execute_result",
     "data": {
      "text/plain": [
       "dtype('O')"
      ]
     },
     "metadata": {},
     "execution_count": 3
    }
   ],
   "source": [
    "type_Date=i3e_data['Date'].dtypes\n",
    "type_Date"
   ]
  },
  {
   "cell_type": "code",
   "execution_count": 4,
   "metadata": {},
   "outputs": [
    {
     "output_type": "execute_result",
     "data": {
      "text/plain": [
       "    М1, t   М2, t  ΔМ, t  Т1, °C  Т2, °C  ΔТ, °C  Q, Gcal  \\\n",
       "0  120.51  120.83  -0.32   83.51   48.85   34.65     4.18   \n",
       "1  123.61  124.93  -1.32   85.14   51.34   33.80     4.19   \n",
       "2  129.96  129.04   0.93   85.63   51.78   33.85     4.41   \n",
       "3  102.04   84.42  17.61   85.83   53.30   32.52     3.33   \n",
       "4  169.23  172.24  -3.02   84.18   56.15   28.03     4.76   \n",
       "\n",
       "           registrated  scheme     area  floors walls material  \\\n",
       "0  Heating + Hot water  closed  3358.40       5          brick   \n",
       "1  Heating + Hot water  closed  3153.50       5          brick   \n",
       "2  Heating + Hot water  closed  3187.50       5          brick   \n",
       "3  Heating + Hot water  opened  2509.35       5          brick   \n",
       "4  Heating + Hot water  closed  3574.70       9          brick   \n",
       "\n",
       "   year of construction  area of building   temp,˚C  age of building  \n",
       "0                  1974           3610.40 -4.959921               41  \n",
       "1                  1975           3150.20 -4.959921               40  \n",
       "2                  1976           3456.20 -4.959921               39  \n",
       "3                  1967           3382.25 -4.959921               48  \n",
       "4                  1982           5138.10 -4.959921               33  "
      ],
      "text/html": "<div>\n<style scoped>\n    .dataframe tbody tr th:only-of-type {\n        vertical-align: middle;\n    }\n\n    .dataframe tbody tr th {\n        vertical-align: top;\n    }\n\n    .dataframe thead th {\n        text-align: right;\n    }\n</style>\n<table border=\"1\" class=\"dataframe\">\n  <thead>\n    <tr style=\"text-align: right;\">\n      <th></th>\n      <th>М1, t</th>\n      <th>М2, t</th>\n      <th>ΔМ, t</th>\n      <th>Т1, °C</th>\n      <th>Т2, °C</th>\n      <th>ΔТ, °C</th>\n      <th>Q, Gcal</th>\n      <th>registrated</th>\n      <th>scheme</th>\n      <th>area</th>\n      <th>floors</th>\n      <th>walls material</th>\n      <th>year of construction</th>\n      <th>area of building</th>\n      <th>temp,˚C</th>\n      <th>age of building</th>\n    </tr>\n  </thead>\n  <tbody>\n    <tr>\n      <th>0</th>\n      <td>120.51</td>\n      <td>120.83</td>\n      <td>-0.32</td>\n      <td>83.51</td>\n      <td>48.85</td>\n      <td>34.65</td>\n      <td>4.18</td>\n      <td>Heating + Hot water</td>\n      <td>closed</td>\n      <td>3358.40</td>\n      <td>5</td>\n      <td>brick</td>\n      <td>1974</td>\n      <td>3610.40</td>\n      <td>-4.959921</td>\n      <td>41</td>\n    </tr>\n    <tr>\n      <th>1</th>\n      <td>123.61</td>\n      <td>124.93</td>\n      <td>-1.32</td>\n      <td>85.14</td>\n      <td>51.34</td>\n      <td>33.80</td>\n      <td>4.19</td>\n      <td>Heating + Hot water</td>\n      <td>closed</td>\n      <td>3153.50</td>\n      <td>5</td>\n      <td>brick</td>\n      <td>1975</td>\n      <td>3150.20</td>\n      <td>-4.959921</td>\n      <td>40</td>\n    </tr>\n    <tr>\n      <th>2</th>\n      <td>129.96</td>\n      <td>129.04</td>\n      <td>0.93</td>\n      <td>85.63</td>\n      <td>51.78</td>\n      <td>33.85</td>\n      <td>4.41</td>\n      <td>Heating + Hot water</td>\n      <td>closed</td>\n      <td>3187.50</td>\n      <td>5</td>\n      <td>brick</td>\n      <td>1976</td>\n      <td>3456.20</td>\n      <td>-4.959921</td>\n      <td>39</td>\n    </tr>\n    <tr>\n      <th>3</th>\n      <td>102.04</td>\n      <td>84.42</td>\n      <td>17.61</td>\n      <td>85.83</td>\n      <td>53.30</td>\n      <td>32.52</td>\n      <td>3.33</td>\n      <td>Heating + Hot water</td>\n      <td>opened</td>\n      <td>2509.35</td>\n      <td>5</td>\n      <td>brick</td>\n      <td>1967</td>\n      <td>3382.25</td>\n      <td>-4.959921</td>\n      <td>48</td>\n    </tr>\n    <tr>\n      <th>4</th>\n      <td>169.23</td>\n      <td>172.24</td>\n      <td>-3.02</td>\n      <td>84.18</td>\n      <td>56.15</td>\n      <td>28.03</td>\n      <td>4.76</td>\n      <td>Heating + Hot water</td>\n      <td>closed</td>\n      <td>3574.70</td>\n      <td>9</td>\n      <td>brick</td>\n      <td>1982</td>\n      <td>5138.10</td>\n      <td>-4.959921</td>\n      <td>33</td>\n    </tr>\n  </tbody>\n</table>\n</div>"
     },
     "metadata": {},
     "execution_count": 4
    }
   ],
   "source": [
    "import datetime\n",
    "from datetime import datetime\n",
    "\n",
    "dt = i3e_data[\"Date\"]\n",
    "\n",
    "# dt = datetime.strptime(dt, '%Y-%m-%d %H:%M:%S')\n",
    "dt = dt.apply(lambda x:datetime.strptime(x, '%Y/%m/%d'))\n",
    "\n",
    "i3e_data[\"year_now\"] = dt.map(lambda x: x.year)\n",
    "i3e_data['age of building'] = i3e_data['year_now'] - i3e_data['year of construction']\n",
    "i3e_data.drop(columns=['year_now', 'Date', 'YYYYMM', 'USPD', 'type'], inplace=True)\n",
    "i3e_data.head()"
   ]
  },
  {
   "cell_type": "markdown",
   "metadata": {
    "pycharm": {
     "is_executing": false,
     "name": "#%% md\n"
    }
   },
   "source": [
    "|serial|name|description|type|\n",
    "|:--:|:--:|:--|:--:|\n",
    "| (A)| Date |date in Windows format.|Date\n",
    "| (B)| M1, t |mass of the input water (heat carrier) per day.|Ratio\n",
    "| (C)| М2, t |mass of the output water. If the residential building has the open heating system (hot water is flowed from the heating system), (C) less than (B).|Ratio\n",
    "| (D)| ΔМ, t |difference in volumes (C)-(B). For buildings with the opened heating system this is the data for analysis. In closed system it is the technological parameter allows observation for equipment.|Ratio\n",
    "| (E)| Т1, °C |average temperature of the heating carrier in the input of the heating system. It is the independent variable from home characteristics.|Interval\n",
    "| (F)| Т2, °C |average temperature of the heating carrier in the output. It is the dependent variable both from (E) and heating consumption at building.|Interval\n",
    "| (G)| ΔТ, °C |temperature difference, (F)-(E).|Interval\n",
    "| (H)| Q, Gcal |amount of the consumed heating in Gcal. It is calculated by formula.|Ratio\n",
    "| (I)| USPD |ID of the heating meter. Some residential buildings have many heating meters.|Nominal\n",
    "| (J)| YYYYMM |date in the format year-month YYYYMM.|Date\n",
    "| (K)| registrated |what is registrated, heating or heating plus hot water.|Nominal\n",
    "| (L)| scheme |type of the heating system (opened or closed).|Nominal\n",
    "| (M)| type |code system-load (4 digits). First digit 1 is opened system, 2 is closed system. The second digit 0 is heating, 1 is heating and hot water supply. The third and fourth digits is floors amount (01, 02, 03, ..., 17).|Nominal\n",
    "| (N)| area |area of building that heating meter is served.|Ratio\n",
    "| (O)| floors |amount of building floors. |Ordinal\n",
    "| (P)| walls material |walls material.|Nominal\n",
    "| (Q)| year of construction |year of building construction.|Date\n",
    "| (R)| area of building |total area of building.|Ratio\n",
    "| (S)| temp,˚C |outdoor temperature.|Interval"
   ]
  },
  {
   "cell_type": "code",
   "execution_count": 5,
   "metadata": {},
   "outputs": [
    {
     "output_type": "execute_result",
     "data": {
      "text/plain": [
       "         М1, t   М2, t  ΔМ, t  Т1, °C  Т2, °C  ΔТ, °C  Q, Gcal     area  \\\n",
       "0       120.51  120.83  -0.32   83.51   48.85   34.65     4.18  3358.40   \n",
       "1       123.61  124.93  -1.32   85.14   51.34   33.80     4.19  3153.50   \n",
       "2       129.96  129.04   0.93   85.63   51.78   33.85     4.41  3187.50   \n",
       "3       102.04   84.42  17.61   85.83   53.30   32.52     3.33  2509.35   \n",
       "4       169.23  172.24  -3.02   84.18   56.15   28.03     4.76  3574.70   \n",
       "...        ...     ...    ...     ...     ...     ...      ...      ...   \n",
       "430911   59.84   48.92  10.92   63.84   31.82   32.02     2.26  3023.90   \n",
       "430912  123.41  123.65  -0.24   60.47   45.83   14.64     1.81  3109.20   \n",
       "430913   60.24   55.63   4.61   61.96   42.43   19.53     1.37  2247.80   \n",
       "430914  217.69  217.27   0.42   66.31   48.09   18.22     3.97  3935.30   \n",
       "430915  146.85  146.11   0.74   68.52   47.64   20.89     3.07  4098.40   \n",
       "\n",
       "        year of construction  area of building   temp,˚C  age of building  \n",
       "0                       1974           3610.40 -4.959921               41  \n",
       "1                       1975           3150.20 -4.959921               40  \n",
       "2                       1976           3456.20 -4.959921               39  \n",
       "3                       1967           3382.25 -4.959921               48  \n",
       "4                       1982           5138.10 -4.959921               33  \n",
       "...                      ...               ...       ...              ...  \n",
       "430911                  1978           3322.65  2.104275               39  \n",
       "430912                  2013           3445.80  2.104275                4  \n",
       "430913                  1978           3123.30  2.104275               39  \n",
       "430914                  1968           4367.40  2.104275               49  \n",
       "430915                  1982           4484.20  2.104275               35  \n",
       "\n",
       "[430916 rows x 12 columns]"
      ],
      "text/html": "<div>\n<style scoped>\n    .dataframe tbody tr th:only-of-type {\n        vertical-align: middle;\n    }\n\n    .dataframe tbody tr th {\n        vertical-align: top;\n    }\n\n    .dataframe thead th {\n        text-align: right;\n    }\n</style>\n<table border=\"1\" class=\"dataframe\">\n  <thead>\n    <tr style=\"text-align: right;\">\n      <th></th>\n      <th>М1, t</th>\n      <th>М2, t</th>\n      <th>ΔМ, t</th>\n      <th>Т1, °C</th>\n      <th>Т2, °C</th>\n      <th>ΔТ, °C</th>\n      <th>Q, Gcal</th>\n      <th>area</th>\n      <th>year of construction</th>\n      <th>area of building</th>\n      <th>temp,˚C</th>\n      <th>age of building</th>\n    </tr>\n  </thead>\n  <tbody>\n    <tr>\n      <th>0</th>\n      <td>120.51</td>\n      <td>120.83</td>\n      <td>-0.32</td>\n      <td>83.51</td>\n      <td>48.85</td>\n      <td>34.65</td>\n      <td>4.18</td>\n      <td>3358.40</td>\n      <td>1974</td>\n      <td>3610.40</td>\n      <td>-4.959921</td>\n      <td>41</td>\n    </tr>\n    <tr>\n      <th>1</th>\n      <td>123.61</td>\n      <td>124.93</td>\n      <td>-1.32</td>\n      <td>85.14</td>\n      <td>51.34</td>\n      <td>33.80</td>\n      <td>4.19</td>\n      <td>3153.50</td>\n      <td>1975</td>\n      <td>3150.20</td>\n      <td>-4.959921</td>\n      <td>40</td>\n    </tr>\n    <tr>\n      <th>2</th>\n      <td>129.96</td>\n      <td>129.04</td>\n      <td>0.93</td>\n      <td>85.63</td>\n      <td>51.78</td>\n      <td>33.85</td>\n      <td>4.41</td>\n      <td>3187.50</td>\n      <td>1976</td>\n      <td>3456.20</td>\n      <td>-4.959921</td>\n      <td>39</td>\n    </tr>\n    <tr>\n      <th>3</th>\n      <td>102.04</td>\n      <td>84.42</td>\n      <td>17.61</td>\n      <td>85.83</td>\n      <td>53.30</td>\n      <td>32.52</td>\n      <td>3.33</td>\n      <td>2509.35</td>\n      <td>1967</td>\n      <td>3382.25</td>\n      <td>-4.959921</td>\n      <td>48</td>\n    </tr>\n    <tr>\n      <th>4</th>\n      <td>169.23</td>\n      <td>172.24</td>\n      <td>-3.02</td>\n      <td>84.18</td>\n      <td>56.15</td>\n      <td>28.03</td>\n      <td>4.76</td>\n      <td>3574.70</td>\n      <td>1982</td>\n      <td>5138.10</td>\n      <td>-4.959921</td>\n      <td>33</td>\n    </tr>\n    <tr>\n      <th>...</th>\n      <td>...</td>\n      <td>...</td>\n      <td>...</td>\n      <td>...</td>\n      <td>...</td>\n      <td>...</td>\n      <td>...</td>\n      <td>...</td>\n      <td>...</td>\n      <td>...</td>\n      <td>...</td>\n      <td>...</td>\n    </tr>\n    <tr>\n      <th>430911</th>\n      <td>59.84</td>\n      <td>48.92</td>\n      <td>10.92</td>\n      <td>63.84</td>\n      <td>31.82</td>\n      <td>32.02</td>\n      <td>2.26</td>\n      <td>3023.90</td>\n      <td>1978</td>\n      <td>3322.65</td>\n      <td>2.104275</td>\n      <td>39</td>\n    </tr>\n    <tr>\n      <th>430912</th>\n      <td>123.41</td>\n      <td>123.65</td>\n      <td>-0.24</td>\n      <td>60.47</td>\n      <td>45.83</td>\n      <td>14.64</td>\n      <td>1.81</td>\n      <td>3109.20</td>\n      <td>2013</td>\n      <td>3445.80</td>\n      <td>2.104275</td>\n      <td>4</td>\n    </tr>\n    <tr>\n      <th>430913</th>\n      <td>60.24</td>\n      <td>55.63</td>\n      <td>4.61</td>\n      <td>61.96</td>\n      <td>42.43</td>\n      <td>19.53</td>\n      <td>1.37</td>\n      <td>2247.80</td>\n      <td>1978</td>\n      <td>3123.30</td>\n      <td>2.104275</td>\n      <td>39</td>\n    </tr>\n    <tr>\n      <th>430914</th>\n      <td>217.69</td>\n      <td>217.27</td>\n      <td>0.42</td>\n      <td>66.31</td>\n      <td>48.09</td>\n      <td>18.22</td>\n      <td>3.97</td>\n      <td>3935.30</td>\n      <td>1968</td>\n      <td>4367.40</td>\n      <td>2.104275</td>\n      <td>49</td>\n    </tr>\n    <tr>\n      <th>430915</th>\n      <td>146.85</td>\n      <td>146.11</td>\n      <td>0.74</td>\n      <td>68.52</td>\n      <td>47.64</td>\n      <td>20.89</td>\n      <td>3.07</td>\n      <td>4098.40</td>\n      <td>1982</td>\n      <td>4484.20</td>\n      <td>2.104275</td>\n      <td>35</td>\n    </tr>\n  </tbody>\n</table>\n<p>430916 rows × 12 columns</p>\n</div>"
     },
     "metadata": {},
     "execution_count": 5
    }
   ],
   "source": [
    "c = LabelEncoder().fit_transform(i3e_data['scheme'])\n",
    "df_scheme = pd.DataFrame(c)\n",
    "df_scheme.columns=['scheme']\n",
    "\n",
    "c = LabelEncoder().fit_transform(i3e_data['floors'])\n",
    "df_floors = pd.DataFrame(c)\n",
    "df_floors.columns=['floors']\n",
    "\n",
    "c = LabelEncoder().fit_transform(i3e_data['walls material'])\n",
    "df_wallsMaterial = pd.DataFrame(c)\n",
    "df_wallsMaterial.columns=['walls materials']\n",
    "\n",
    "c = LabelEncoder().fit_transform(i3e_data['registrated'])\n",
    "df_registered = pd.DataFrame(c)\n",
    "df_registered.columns=['registrated']\n",
    "\n",
    "df_x=np.concatenate([df_scheme,df_wallsMaterial,df_registered,df_floors],axis=-1)\n",
    "\n",
    "df_Label =pd.DataFrame(df_x)\n",
    "data_Label = i3e_data.drop(columns=['scheme', 'registrated', 'floors', 'walls material'])\n",
    "data_Label\n"
   ]
  },
  {
   "cell_type": "code",
   "execution_count": 6,
   "metadata": {},
   "outputs": [
    {
     "output_type": "stream",
     "name": "stdout",
     "text": [
      "               М1, t         М2, t          ΔМ, t         Т1, °C  \\\ncount  430916.000000  430916.00000  430916.000000  430916.000000   \nmean      137.851201     133.63752       4.213680      74.407836   \nstd       111.946293     110.97362      11.294526      10.404761   \nmin         0.310000       0.01000     -26.400000      40.010000   \n25%        73.407500      69.93000      -0.170000      66.210000   \n50%       111.090000     105.82000       2.100000      72.830000   \n75%       159.190000     154.54000       7.070000      81.740000   \nmax      5723.500000    1774.44000    5173.200000     116.990000   \n\n              Т2, °C         ΔТ, °C        Q, Gcal           area  \\\ncount  430916.000000  430916.000000  430916.000000  430916.000000   \nmean       49.826568      24.581271       3.217752    3465.698272   \nstd         5.754332       7.631617       2.433093    2278.194520   \nmin         6.380000       2.030000       0.010000     121.800000   \n25%        45.990000      19.460000       1.740000    2137.800000   \n50%        49.470000      24.080000       2.620000    2930.800000   \n75%        53.500000      29.640000       3.850000    3957.000000   \nmax        87.510000      62.710000      29.650000   18801.100000   \n\n       year of construction  area of building        temp,˚C  age of building  \\\ncount         430916.000000     430916.000000  430916.000000    430916.000000   \nmean            1978.787402       7134.558131      -5.564949        37.029245   \nstd               12.539220       6380.735986       9.799313        12.567284   \nmin             1882.000000        121.800000     -32.582617         0.000000   \n25%             1970.000000       3416.400000     -12.586472        28.000000   \n50%             1979.000000       4769.500000      -4.873147        36.000000   \n75%             1987.000000       8269.000000       1.225254        46.000000   \nmax             2015.000000      32030.920000      17.096007       135.000000   \n\n              scheme  walls material     registered         floors  \ncount  430916.000000   430916.000000  430916.000000  430916.000000  \nmean        0.421651        1.940524       0.749308       5.517233  \nstd         0.493824        1.023909       0.433412       2.263814  \nmin         0.000000        0.000000       0.000000       0.000000  \n25%         0.000000        1.000000       0.000000       4.000000  \n50%         0.000000        1.000000       1.000000       4.000000  \n75%         1.000000        3.000000       1.000000       8.000000  \nmax         1.000000        4.000000       1.000000      13.000000  \n"
     ]
    }
   ],
   "source": [
    "for item in df_Label.columns:\n",
    "    data_Label[str(item)]=df_Label[item].values\n",
    "\n",
    "data_Label.rename(columns={'0':'scheme', '1':'walls material', '2':'registered', '3':'floors'}, inplace=True)\n",
    "print (data_Label.describe())"
   ]
  },
  {
   "cell_type": "code",
   "execution_count": 7,
   "metadata": {},
   "outputs": [],
   "source": [
    "from sklearn.cluster import KMeans\n",
    "# 取出这三类数据\n",
    "data_k = data_Label[['ΔМ, t','ΔТ, °C','Q, Gcal']]\n"
   ]
  },
  {
   "cell_type": "code",
   "execution_count": 8,
   "metadata": {},
   "outputs": [
    {
     "output_type": "display_data",
     "data": {
      "text/plain": "<Figure size 432x288 with 1 Axes>",
      "image/svg+xml": "<?xml version=\"1.0\" encoding=\"utf-8\" standalone=\"no\"?>\n<!DOCTYPE svg PUBLIC \"-//W3C//DTD SVG 1.1//EN\"\n  \"http://www.w3.org/Graphics/SVG/1.1/DTD/svg11.dtd\">\n<!-- Created with matplotlib (https://matplotlib.org/) -->\n<svg height=\"259.116562pt\" version=\"1.1\" viewBox=\"0 0 362.5625 259.116562\" width=\"362.5625pt\" xmlns=\"http://www.w3.org/2000/svg\" xmlns:xlink=\"http://www.w3.org/1999/xlink\">\n <metadata>\n  <rdf:RDF xmlns:cc=\"http://creativecommons.org/ns#\" xmlns:dc=\"http://purl.org/dc/elements/1.1/\" xmlns:rdf=\"http://www.w3.org/1999/02/22-rdf-syntax-ns#\">\n   <cc:Work>\n    <dc:type rdf:resource=\"http://purl.org/dc/dcmitype/StillImage\"/>\n    <dc:date>2021-05-24T19:52:43.674529</dc:date>\n    <dc:format>image/svg+xml</dc:format>\n    <dc:creator>\n     <cc:Agent>\n      <dc:title>Matplotlib v3.3.4, https://matplotlib.org/</dc:title>\n     </cc:Agent>\n    </dc:creator>\n   </cc:Work>\n  </rdf:RDF>\n </metadata>\n <defs>\n  <style type=\"text/css\">*{stroke-linecap:butt;stroke-linejoin:round;}</style>\n </defs>\n <g id=\"figure_1\">\n  <g id=\"patch_1\">\n   <path d=\"M 0 259.116562 \nL 362.5625 259.116562 \nL 362.5625 0 \nL 0 0 \nz\n\" style=\"fill:none;\"/>\n  </g>\n  <g id=\"axes_1\">\n   <g id=\"patch_2\">\n    <path d=\"M 20.5625 235.238437 \nL 355.3625 235.238437 \nL 355.3625 17.798437 \nL 20.5625 17.798437 \nz\n\" style=\"fill:#ffffff;\"/>\n   </g>\n   <g id=\"matplotlib.axis_1\">\n    <g id=\"xtick_1\">\n     <g id=\"line2d_1\">\n      <defs>\n       <path d=\"M 0 0 \nL 0 3.5 \n\" id=\"m83963ae5a8\" style=\"stroke:#000000;stroke-width:0.8;\"/>\n      </defs>\n      <g>\n       <use style=\"stroke:#000000;stroke-width:0.8;\" x=\"59.193269\" xlink:href=\"#m83963ae5a8\" y=\"235.238437\"/>\n      </g>\n     </g>\n     <g id=\"text_1\">\n      <!-- 2 -->\n      <g transform=\"translate(56.012019 249.836875)scale(0.1 -0.1)\">\n       <defs>\n        <path d=\"M 19.1875 8.296875 \nL 53.609375 8.296875 \nL 53.609375 0 \nL 7.328125 0 \nL 7.328125 8.296875 \nQ 12.9375 14.109375 22.625 23.890625 \nQ 32.328125 33.6875 34.8125 36.53125 \nQ 39.546875 41.84375 41.421875 45.53125 \nQ 43.3125 49.21875 43.3125 52.78125 \nQ 43.3125 58.59375 39.234375 62.25 \nQ 35.15625 65.921875 28.609375 65.921875 \nQ 23.96875 65.921875 18.8125 64.3125 \nQ 13.671875 62.703125 7.8125 59.421875 \nL 7.8125 69.390625 \nQ 13.765625 71.78125 18.9375 73 \nQ 24.125 74.21875 28.421875 74.21875 \nQ 39.75 74.21875 46.484375 68.546875 \nQ 53.21875 62.890625 53.21875 53.421875 \nQ 53.21875 48.921875 51.53125 44.890625 \nQ 49.859375 40.875 45.40625 35.40625 \nQ 44.1875 33.984375 37.640625 27.21875 \nQ 31.109375 20.453125 19.1875 8.296875 \nz\n\" id=\"DejaVuSans-50\"/>\n       </defs>\n       <use xlink:href=\"#DejaVuSans-50\"/>\n      </g>\n     </g>\n    </g>\n    <g id=\"xtick_2\">\n     <g id=\"line2d_2\">\n      <g>\n       <use style=\"stroke:#000000;stroke-width:0.8;\" x=\"106.018444\" xlink:href=\"#m83963ae5a8\" y=\"235.238437\"/>\n      </g>\n     </g>\n     <g id=\"text_2\">\n      <!-- 4 -->\n      <g transform=\"translate(102.837194 249.836875)scale(0.1 -0.1)\">\n       <defs>\n        <path d=\"M 37.796875 64.3125 \nL 12.890625 25.390625 \nL 37.796875 25.390625 \nz\nM 35.203125 72.90625 \nL 47.609375 72.90625 \nL 47.609375 25.390625 \nL 58.015625 25.390625 \nL 58.015625 17.1875 \nL 47.609375 17.1875 \nL 47.609375 0 \nL 37.796875 0 \nL 37.796875 17.1875 \nL 4.890625 17.1875 \nL 4.890625 26.703125 \nz\n\" id=\"DejaVuSans-52\"/>\n       </defs>\n       <use xlink:href=\"#DejaVuSans-52\"/>\n      </g>\n     </g>\n    </g>\n    <g id=\"xtick_3\">\n     <g id=\"line2d_3\">\n      <g>\n       <use style=\"stroke:#000000;stroke-width:0.8;\" x=\"152.843619\" xlink:href=\"#m83963ae5a8\" y=\"235.238437\"/>\n      </g>\n     </g>\n     <g id=\"text_3\">\n      <!-- 6 -->\n      <g transform=\"translate(149.662369 249.836875)scale(0.1 -0.1)\">\n       <defs>\n        <path d=\"M 33.015625 40.375 \nQ 26.375 40.375 22.484375 35.828125 \nQ 18.609375 31.296875 18.609375 23.390625 \nQ 18.609375 15.53125 22.484375 10.953125 \nQ 26.375 6.390625 33.015625 6.390625 \nQ 39.65625 6.390625 43.53125 10.953125 \nQ 47.40625 15.53125 47.40625 23.390625 \nQ 47.40625 31.296875 43.53125 35.828125 \nQ 39.65625 40.375 33.015625 40.375 \nz\nM 52.59375 71.296875 \nL 52.59375 62.3125 \nQ 48.875 64.0625 45.09375 64.984375 \nQ 41.3125 65.921875 37.59375 65.921875 \nQ 27.828125 65.921875 22.671875 59.328125 \nQ 17.53125 52.734375 16.796875 39.40625 \nQ 19.671875 43.65625 24.015625 45.921875 \nQ 28.375 48.1875 33.59375 48.1875 \nQ 44.578125 48.1875 50.953125 41.515625 \nQ 57.328125 34.859375 57.328125 23.390625 \nQ 57.328125 12.15625 50.6875 5.359375 \nQ 44.046875 -1.421875 33.015625 -1.421875 \nQ 20.359375 -1.421875 13.671875 8.265625 \nQ 6.984375 17.96875 6.984375 36.375 \nQ 6.984375 53.65625 15.1875 63.9375 \nQ 23.390625 74.21875 37.203125 74.21875 \nQ 40.921875 74.21875 44.703125 73.484375 \nQ 48.484375 72.75 52.59375 71.296875 \nz\n\" id=\"DejaVuSans-54\"/>\n       </defs>\n       <use xlink:href=\"#DejaVuSans-54\"/>\n      </g>\n     </g>\n    </g>\n    <g id=\"xtick_4\">\n     <g id=\"line2d_4\">\n      <g>\n       <use style=\"stroke:#000000;stroke-width:0.8;\" x=\"199.668794\" xlink:href=\"#m83963ae5a8\" y=\"235.238437\"/>\n      </g>\n     </g>\n     <g id=\"text_4\">\n      <!-- 8 -->\n      <g transform=\"translate(196.487544 249.836875)scale(0.1 -0.1)\">\n       <defs>\n        <path d=\"M 31.78125 34.625 \nQ 24.75 34.625 20.71875 30.859375 \nQ 16.703125 27.09375 16.703125 20.515625 \nQ 16.703125 13.921875 20.71875 10.15625 \nQ 24.75 6.390625 31.78125 6.390625 \nQ 38.8125 6.390625 42.859375 10.171875 \nQ 46.921875 13.96875 46.921875 20.515625 \nQ 46.921875 27.09375 42.890625 30.859375 \nQ 38.875 34.625 31.78125 34.625 \nz\nM 21.921875 38.8125 \nQ 15.578125 40.375 12.03125 44.71875 \nQ 8.5 49.078125 8.5 55.328125 \nQ 8.5 64.0625 14.71875 69.140625 \nQ 20.953125 74.21875 31.78125 74.21875 \nQ 42.671875 74.21875 48.875 69.140625 \nQ 55.078125 64.0625 55.078125 55.328125 \nQ 55.078125 49.078125 51.53125 44.71875 \nQ 48 40.375 41.703125 38.8125 \nQ 48.828125 37.15625 52.796875 32.3125 \nQ 56.78125 27.484375 56.78125 20.515625 \nQ 56.78125 9.90625 50.3125 4.234375 \nQ 43.84375 -1.421875 31.78125 -1.421875 \nQ 19.734375 -1.421875 13.25 4.234375 \nQ 6.78125 9.90625 6.78125 20.515625 \nQ 6.78125 27.484375 10.78125 32.3125 \nQ 14.796875 37.15625 21.921875 38.8125 \nz\nM 18.3125 54.390625 \nQ 18.3125 48.734375 21.84375 45.5625 \nQ 25.390625 42.390625 31.78125 42.390625 \nQ 38.140625 42.390625 41.71875 45.5625 \nQ 45.3125 48.734375 45.3125 54.390625 \nQ 45.3125 60.0625 41.71875 63.234375 \nQ 38.140625 66.40625 31.78125 66.40625 \nQ 25.390625 66.40625 21.84375 63.234375 \nQ 18.3125 60.0625 18.3125 54.390625 \nz\n\" id=\"DejaVuSans-56\"/>\n       </defs>\n       <use xlink:href=\"#DejaVuSans-56\"/>\n      </g>\n     </g>\n    </g>\n    <g id=\"xtick_5\">\n     <g id=\"line2d_5\">\n      <g>\n       <use style=\"stroke:#000000;stroke-width:0.8;\" x=\"246.493969\" xlink:href=\"#m83963ae5a8\" y=\"235.238437\"/>\n      </g>\n     </g>\n     <g id=\"text_5\">\n      <!-- 10 -->\n      <g transform=\"translate(240.131469 249.836875)scale(0.1 -0.1)\">\n       <defs>\n        <path d=\"M 12.40625 8.296875 \nL 28.515625 8.296875 \nL 28.515625 63.921875 \nL 10.984375 60.40625 \nL 10.984375 69.390625 \nL 28.421875 72.90625 \nL 38.28125 72.90625 \nL 38.28125 8.296875 \nL 54.390625 8.296875 \nL 54.390625 0 \nL 12.40625 0 \nz\n\" id=\"DejaVuSans-49\"/>\n        <path d=\"M 31.78125 66.40625 \nQ 24.171875 66.40625 20.328125 58.90625 \nQ 16.5 51.421875 16.5 36.375 \nQ 16.5 21.390625 20.328125 13.890625 \nQ 24.171875 6.390625 31.78125 6.390625 \nQ 39.453125 6.390625 43.28125 13.890625 \nQ 47.125 21.390625 47.125 36.375 \nQ 47.125 51.421875 43.28125 58.90625 \nQ 39.453125 66.40625 31.78125 66.40625 \nz\nM 31.78125 74.21875 \nQ 44.046875 74.21875 50.515625 64.515625 \nQ 56.984375 54.828125 56.984375 36.375 \nQ 56.984375 17.96875 50.515625 8.265625 \nQ 44.046875 -1.421875 31.78125 -1.421875 \nQ 19.53125 -1.421875 13.0625 8.265625 \nQ 6.59375 17.96875 6.59375 36.375 \nQ 6.59375 54.828125 13.0625 64.515625 \nQ 19.53125 74.21875 31.78125 74.21875 \nz\n\" id=\"DejaVuSans-48\"/>\n       </defs>\n       <use xlink:href=\"#DejaVuSans-49\"/>\n       <use x=\"63.623047\" xlink:href=\"#DejaVuSans-48\"/>\n      </g>\n     </g>\n    </g>\n    <g id=\"xtick_6\">\n     <g id=\"line2d_6\">\n      <g>\n       <use style=\"stroke:#000000;stroke-width:0.8;\" x=\"293.319143\" xlink:href=\"#m83963ae5a8\" y=\"235.238437\"/>\n      </g>\n     </g>\n     <g id=\"text_6\">\n      <!-- 12 -->\n      <g transform=\"translate(286.956643 249.836875)scale(0.1 -0.1)\">\n       <use xlink:href=\"#DejaVuSans-49\"/>\n       <use x=\"63.623047\" xlink:href=\"#DejaVuSans-50\"/>\n      </g>\n     </g>\n    </g>\n    <g id=\"xtick_7\">\n     <g id=\"line2d_7\">\n      <g>\n       <use style=\"stroke:#000000;stroke-width:0.8;\" x=\"340.144318\" xlink:href=\"#m83963ae5a8\" y=\"235.238437\"/>\n      </g>\n     </g>\n     <g id=\"text_7\">\n      <!-- 14 -->\n      <g transform=\"translate(333.781818 249.836875)scale(0.1 -0.1)\">\n       <use xlink:href=\"#DejaVuSans-49\"/>\n       <use x=\"63.623047\" xlink:href=\"#DejaVuSans-52\"/>\n      </g>\n     </g>\n    </g>\n   </g>\n   <g id=\"matplotlib.axis_2\">\n    <g id=\"ytick_1\">\n     <g id=\"line2d_8\">\n      <defs>\n       <path d=\"M 0 0 \nL -3.5 0 \n\" id=\"m09c3d341b2\" style=\"stroke:#000000;stroke-width:0.8;\"/>\n      </defs>\n      <g>\n       <use style=\"stroke:#000000;stroke-width:0.8;\" x=\"20.5625\" xlink:href=\"#m09c3d341b2\" y=\"222.464045\"/>\n      </g>\n     </g>\n     <g id=\"text_8\">\n      <!-- 1 -->\n      <g transform=\"translate(7.2 226.263264)scale(0.1 -0.1)\">\n       <use xlink:href=\"#DejaVuSans-49\"/>\n      </g>\n     </g>\n    </g>\n    <g id=\"ytick_2\">\n     <g id=\"line2d_9\">\n      <g>\n       <use style=\"stroke:#000000;stroke-width:0.8;\" x=\"20.5625\" xlink:href=\"#m09c3d341b2\" y=\"195.641372\"/>\n      </g>\n     </g>\n     <g id=\"text_9\">\n      <!-- 2 -->\n      <g transform=\"translate(7.2 199.440591)scale(0.1 -0.1)\">\n       <use xlink:href=\"#DejaVuSans-50\"/>\n      </g>\n     </g>\n    </g>\n    <g id=\"ytick_3\">\n     <g id=\"line2d_10\">\n      <g>\n       <use style=\"stroke:#000000;stroke-width:0.8;\" x=\"20.5625\" xlink:href=\"#m09c3d341b2\" y=\"168.818699\"/>\n      </g>\n     </g>\n     <g id=\"text_10\">\n      <!-- 3 -->\n      <g transform=\"translate(7.2 172.617918)scale(0.1 -0.1)\">\n       <defs>\n        <path d=\"M 40.578125 39.3125 \nQ 47.65625 37.796875 51.625 33 \nQ 55.609375 28.21875 55.609375 21.1875 \nQ 55.609375 10.40625 48.1875 4.484375 \nQ 40.765625 -1.421875 27.09375 -1.421875 \nQ 22.515625 -1.421875 17.65625 -0.515625 \nQ 12.796875 0.390625 7.625 2.203125 \nL 7.625 11.71875 \nQ 11.71875 9.328125 16.59375 8.109375 \nQ 21.484375 6.890625 26.8125 6.890625 \nQ 36.078125 6.890625 40.9375 10.546875 \nQ 45.796875 14.203125 45.796875 21.1875 \nQ 45.796875 27.640625 41.28125 31.265625 \nQ 36.765625 34.90625 28.71875 34.90625 \nL 20.21875 34.90625 \nL 20.21875 43.015625 \nL 29.109375 43.015625 \nQ 36.375 43.015625 40.234375 45.921875 \nQ 44.09375 48.828125 44.09375 54.296875 \nQ 44.09375 59.90625 40.109375 62.90625 \nQ 36.140625 65.921875 28.71875 65.921875 \nQ 24.65625 65.921875 20.015625 65.03125 \nQ 15.375 64.15625 9.8125 62.3125 \nL 9.8125 71.09375 \nQ 15.4375 72.65625 20.34375 73.4375 \nQ 25.25 74.21875 29.59375 74.21875 \nQ 40.828125 74.21875 47.359375 69.109375 \nQ 53.90625 64.015625 53.90625 55.328125 \nQ 53.90625 49.265625 50.4375 45.09375 \nQ 46.96875 40.921875 40.578125 39.3125 \nz\n\" id=\"DejaVuSans-51\"/>\n       </defs>\n       <use xlink:href=\"#DejaVuSans-51\"/>\n      </g>\n     </g>\n    </g>\n    <g id=\"ytick_4\">\n     <g id=\"line2d_11\">\n      <g>\n       <use style=\"stroke:#000000;stroke-width:0.8;\" x=\"20.5625\" xlink:href=\"#m09c3d341b2\" y=\"141.996026\"/>\n      </g>\n     </g>\n     <g id=\"text_11\">\n      <!-- 4 -->\n      <g transform=\"translate(7.2 145.795245)scale(0.1 -0.1)\">\n       <use xlink:href=\"#DejaVuSans-52\"/>\n      </g>\n     </g>\n    </g>\n    <g id=\"ytick_5\">\n     <g id=\"line2d_12\">\n      <g>\n       <use style=\"stroke:#000000;stroke-width:0.8;\" x=\"20.5625\" xlink:href=\"#m09c3d341b2\" y=\"115.173353\"/>\n      </g>\n     </g>\n     <g id=\"text_12\">\n      <!-- 5 -->\n      <g transform=\"translate(7.2 118.972572)scale(0.1 -0.1)\">\n       <defs>\n        <path d=\"M 10.796875 72.90625 \nL 49.515625 72.90625 \nL 49.515625 64.59375 \nL 19.828125 64.59375 \nL 19.828125 46.734375 \nQ 21.96875 47.46875 24.109375 47.828125 \nQ 26.265625 48.1875 28.421875 48.1875 \nQ 40.625 48.1875 47.75 41.5 \nQ 54.890625 34.8125 54.890625 23.390625 \nQ 54.890625 11.625 47.5625 5.09375 \nQ 40.234375 -1.421875 26.90625 -1.421875 \nQ 22.3125 -1.421875 17.546875 -0.640625 \nQ 12.796875 0.140625 7.71875 1.703125 \nL 7.71875 11.625 \nQ 12.109375 9.234375 16.796875 8.0625 \nQ 21.484375 6.890625 26.703125 6.890625 \nQ 35.15625 6.890625 40.078125 11.328125 \nQ 45.015625 15.765625 45.015625 23.390625 \nQ 45.015625 31 40.078125 35.4375 \nQ 35.15625 39.890625 26.703125 39.890625 \nQ 22.75 39.890625 18.8125 39.015625 \nQ 14.890625 38.140625 10.796875 36.28125 \nz\n\" id=\"DejaVuSans-53\"/>\n       </defs>\n       <use xlink:href=\"#DejaVuSans-53\"/>\n      </g>\n     </g>\n    </g>\n    <g id=\"ytick_6\">\n     <g id=\"line2d_13\">\n      <g>\n       <use style=\"stroke:#000000;stroke-width:0.8;\" x=\"20.5625\" xlink:href=\"#m09c3d341b2\" y=\"88.35068\"/>\n      </g>\n     </g>\n     <g id=\"text_13\">\n      <!-- 6 -->\n      <g transform=\"translate(7.2 92.149899)scale(0.1 -0.1)\">\n       <use xlink:href=\"#DejaVuSans-54\"/>\n      </g>\n     </g>\n    </g>\n    <g id=\"ytick_7\">\n     <g id=\"line2d_14\">\n      <g>\n       <use style=\"stroke:#000000;stroke-width:0.8;\" x=\"20.5625\" xlink:href=\"#m09c3d341b2\" y=\"61.528007\"/>\n      </g>\n     </g>\n     <g id=\"text_14\">\n      <!-- 7 -->\n      <g transform=\"translate(7.2 65.327226)scale(0.1 -0.1)\">\n       <defs>\n        <path d=\"M 8.203125 72.90625 \nL 55.078125 72.90625 \nL 55.078125 68.703125 \nL 28.609375 0 \nL 18.3125 0 \nL 43.21875 64.59375 \nL 8.203125 64.59375 \nz\n\" id=\"DejaVuSans-55\"/>\n       </defs>\n       <use xlink:href=\"#DejaVuSans-55\"/>\n      </g>\n     </g>\n    </g>\n    <g id=\"ytick_8\">\n     <g id=\"line2d_15\">\n      <g>\n       <use style=\"stroke:#000000;stroke-width:0.8;\" x=\"20.5625\" xlink:href=\"#m09c3d341b2\" y=\"34.705334\"/>\n      </g>\n     </g>\n     <g id=\"text_15\">\n      <!-- 8 -->\n      <g transform=\"translate(7.2 38.504553)scale(0.1 -0.1)\">\n       <use xlink:href=\"#DejaVuSans-56\"/>\n      </g>\n     </g>\n    </g>\n    <g id=\"text_16\">\n     <!-- 1e7 -->\n     <g transform=\"translate(20.5625 14.798437)scale(0.1 -0.1)\">\n      <defs>\n       <path d=\"M 56.203125 29.59375 \nL 56.203125 25.203125 \nL 14.890625 25.203125 \nQ 15.484375 15.921875 20.484375 11.0625 \nQ 25.484375 6.203125 34.421875 6.203125 \nQ 39.59375 6.203125 44.453125 7.46875 \nQ 49.3125 8.734375 54.109375 11.28125 \nL 54.109375 2.78125 \nQ 49.265625 0.734375 44.1875 -0.34375 \nQ 39.109375 -1.421875 33.890625 -1.421875 \nQ 20.796875 -1.421875 13.15625 6.1875 \nQ 5.515625 13.8125 5.515625 26.8125 \nQ 5.515625 40.234375 12.765625 48.109375 \nQ 20.015625 56 32.328125 56 \nQ 43.359375 56 49.78125 48.890625 \nQ 56.203125 41.796875 56.203125 29.59375 \nz\nM 47.21875 32.234375 \nQ 47.125 39.59375 43.09375 43.984375 \nQ 39.0625 48.390625 32.421875 48.390625 \nQ 24.90625 48.390625 20.390625 44.140625 \nQ 15.875 39.890625 15.1875 32.171875 \nz\n\" id=\"DejaVuSans-101\"/>\n      </defs>\n      <use xlink:href=\"#DejaVuSans-49\"/>\n      <use x=\"63.623047\" xlink:href=\"#DejaVuSans-101\"/>\n      <use x=\"125.146484\" xlink:href=\"#DejaVuSans-55\"/>\n     </g>\n    </g>\n   </g>\n   <g id=\"line2d_16\">\n    <path clip-path=\"url(#pff60bfb9d1)\" d=\"M 35.780682 27.682074 \nL 59.193269 99.348516 \nL 82.605857 143.01217 \nL 106.018444 171.741117 \nL 129.431031 186.159743 \nL 152.843619 196.843659 \nL 176.256206 205.182519 \nL 199.668794 210.029246 \nL 223.081381 213.457358 \nL 246.493969 217.285053 \nL 269.906556 219.837859 \nL 293.319143 221.929833 \nL 316.731731 223.765089 \nL 340.144318 225.354801 \n\" style=\"fill:none;stroke:#1f77b4;stroke-linecap:square;stroke-width:1.5;\"/>\n    <defs>\n     <path d=\"M 0 3 \nC 0.795609 3 1.55874 2.683901 2.12132 2.12132 \nC 2.683901 1.55874 3 0.795609 3 0 \nC 3 -0.795609 2.683901 -1.55874 2.12132 -2.12132 \nC 1.55874 -2.683901 0.795609 -3 0 -3 \nC -0.795609 -3 -1.55874 -2.683901 -2.12132 -2.12132 \nC -2.683901 -1.55874 -3 -0.795609 -3 0 \nC -3 0.795609 -2.683901 1.55874 -2.12132 2.12132 \nC -1.55874 2.683901 -0.795609 3 0 3 \nz\n\" id=\"m9fed4eecb7\" style=\"stroke:#1f77b4;\"/>\n    </defs>\n    <g clip-path=\"url(#pff60bfb9d1)\">\n     <use style=\"fill:#1f77b4;stroke:#1f77b4;\" x=\"35.780682\" xlink:href=\"#m9fed4eecb7\" y=\"27.682074\"/>\n     <use style=\"fill:#1f77b4;stroke:#1f77b4;\" x=\"59.193269\" xlink:href=\"#m9fed4eecb7\" y=\"99.348516\"/>\n     <use style=\"fill:#1f77b4;stroke:#1f77b4;\" x=\"82.605857\" xlink:href=\"#m9fed4eecb7\" y=\"143.01217\"/>\n     <use style=\"fill:#1f77b4;stroke:#1f77b4;\" x=\"106.018444\" xlink:href=\"#m9fed4eecb7\" y=\"171.741117\"/>\n     <use style=\"fill:#1f77b4;stroke:#1f77b4;\" x=\"129.431031\" xlink:href=\"#m9fed4eecb7\" y=\"186.159743\"/>\n     <use style=\"fill:#1f77b4;stroke:#1f77b4;\" x=\"152.843619\" xlink:href=\"#m9fed4eecb7\" y=\"196.843659\"/>\n     <use style=\"fill:#1f77b4;stroke:#1f77b4;\" x=\"176.256206\" xlink:href=\"#m9fed4eecb7\" y=\"205.182519\"/>\n     <use style=\"fill:#1f77b4;stroke:#1f77b4;\" x=\"199.668794\" xlink:href=\"#m9fed4eecb7\" y=\"210.029246\"/>\n     <use style=\"fill:#1f77b4;stroke:#1f77b4;\" x=\"223.081381\" xlink:href=\"#m9fed4eecb7\" y=\"213.457358\"/>\n     <use style=\"fill:#1f77b4;stroke:#1f77b4;\" x=\"246.493969\" xlink:href=\"#m9fed4eecb7\" y=\"217.285053\"/>\n     <use style=\"fill:#1f77b4;stroke:#1f77b4;\" x=\"269.906556\" xlink:href=\"#m9fed4eecb7\" y=\"219.837859\"/>\n     <use style=\"fill:#1f77b4;stroke:#1f77b4;\" x=\"293.319143\" xlink:href=\"#m9fed4eecb7\" y=\"221.929833\"/>\n     <use style=\"fill:#1f77b4;stroke:#1f77b4;\" x=\"316.731731\" xlink:href=\"#m9fed4eecb7\" y=\"223.765089\"/>\n     <use style=\"fill:#1f77b4;stroke:#1f77b4;\" x=\"340.144318\" xlink:href=\"#m9fed4eecb7\" y=\"225.354801\"/>\n    </g>\n   </g>\n   <g id=\"patch_3\">\n    <path d=\"M 20.5625 235.238437 \nL 20.5625 17.798438 \n\" style=\"fill:none;stroke:#000000;stroke-linecap:square;stroke-linejoin:miter;stroke-width:0.8;\"/>\n   </g>\n   <g id=\"patch_4\">\n    <path d=\"M 355.3625 235.238437 \nL 355.3625 17.798438 \n\" style=\"fill:none;stroke:#000000;stroke-linecap:square;stroke-linejoin:miter;stroke-width:0.8;\"/>\n   </g>\n   <g id=\"patch_5\">\n    <path d=\"M 20.5625 235.238437 \nL 355.3625 235.238437 \n\" style=\"fill:none;stroke:#000000;stroke-linecap:square;stroke-linejoin:miter;stroke-width:0.8;\"/>\n   </g>\n   <g id=\"patch_6\">\n    <path d=\"M 20.5625 17.798437 \nL 355.3625 17.798437 \n\" style=\"fill:none;stroke:#000000;stroke-linecap:square;stroke-linejoin:miter;stroke-width:0.8;\"/>\n   </g>\n  </g>\n </g>\n <defs>\n  <clipPath id=\"pff60bfb9d1\">\n   <rect height=\"217.44\" width=\"334.8\" x=\"20.5625\" y=\"17.798437\"/>\n  </clipPath>\n </defs>\n</svg>\n",
      "image/png": "[encoded data removed]"
     },
     "metadata": {
      "needs_background": "light"
     }
    }
   ],
   "source": [
    "# K值查找\n",
    "distor =[]\n",
    "for i in range(1,15):\n",
    "    km = KMeans(n_clusters =i)\n",
    "    km.fit(data_k)\n",
    "    distor.append(km.inertia_)\n",
    "plt.plot(range(1,15),distor,marker='o')\n",
    "plt.show()"
   ]
  },
  {
   "cell_type": "code",
   "execution_count": 9,
   "metadata": {},
   "outputs": [
    {
     "output_type": "display_data",
     "data": {
      "text/plain": "    count        ΔМ, t     ΔТ, °C    Q, Gcal\n0   11598    29.597727  24.632588   6.413169\n1   96758     3.414131  34.962035   4.044104\n2   92443     1.218175  15.140266   2.297256\n3       1  5173.200000  25.220000  14.340000\n4   81530    11.104104  22.627687   3.282229\n5  148433     0.602127  24.749557   2.964637\n6     153   203.216601  23.973203   5.635948",
      "text/html": "<div>\n<style scoped>\n    .dataframe tbody tr th:only-of-type {\n        vertical-align: middle;\n    }\n\n    .dataframe tbody tr th {\n        vertical-align: top;\n    }\n\n    .dataframe thead th {\n        text-align: right;\n    }\n</style>\n<table border=\"1\" class=\"dataframe\">\n  <thead>\n    <tr style=\"text-align: right;\">\n      <th></th>\n      <th>count</th>\n      <th>ΔМ, t</th>\n      <th>ΔТ, °C</th>\n      <th>Q, Gcal</th>\n    </tr>\n  </thead>\n  <tbody>\n    <tr>\n      <th>0</th>\n      <td>11598</td>\n      <td>29.597727</td>\n      <td>24.632588</td>\n      <td>6.413169</td>\n    </tr>\n    <tr>\n      <th>1</th>\n      <td>96758</td>\n      <td>3.414131</td>\n      <td>34.962035</td>\n      <td>4.044104</td>\n    </tr>\n    <tr>\n      <th>2</th>\n      <td>92443</td>\n      <td>1.218175</td>\n      <td>15.140266</td>\n      <td>2.297256</td>\n    </tr>\n    <tr>\n      <th>3</th>\n      <td>1</td>\n      <td>5173.200000</td>\n      <td>25.220000</td>\n      <td>14.340000</td>\n    </tr>\n    <tr>\n      <th>4</th>\n      <td>81530</td>\n      <td>11.104104</td>\n      <td>22.627687</td>\n      <td>3.282229</td>\n    </tr>\n    <tr>\n      <th>5</th>\n      <td>148433</td>\n      <td>0.602127</td>\n      <td>24.749557</td>\n      <td>2.964637</td>\n    </tr>\n    <tr>\n      <th>6</th>\n      <td>153</td>\n      <td>203.216601</td>\n      <td>23.973203</td>\n      <td>5.635948</td>\n    </tr>\n  </tbody>\n</table>\n</div>"
     },
     "metadata": {}
    }
   ],
   "source": [
    "# kmeans聚类训练\n",
    "mod = KMeans(n_clusters=7,random_state=255)\n",
    "y_pre = mod.fit_predict(data_k)\n",
    "# 聚类的数目\n",
    "r1 = pd.Series(mod.labels_).value_counts()\n",
    "# 聚类的3个质心\n",
    "r2 = pd.DataFrame(mod.cluster_centers_)\n",
    "# 将获取到的聚类的数目以及获取的质心合并\n",
    "r = pd.concat([r1,r2],axis = 1)\n",
    "r.columns = [\"count\",\"ΔМ, t\",\"ΔТ, °C\",\"Q, Gcal\"]\n",
    "data_Label[\"kmeans_class\"] = y_pre\n",
    "display(r)"
   ]
  },
  {
   "cell_type": "code",
   "execution_count": 10,
   "metadata": {},
   "outputs": [],
   "source": [
    "# 删除异常值\n",
    "data_k = data_k[~(data_k['ΔМ, t'].isin([5173.2]) | data_k['ΔТ, °C'].isin([25.22]))]  \n"
   ]
  },
  {
   "cell_type": "code",
   "execution_count": 11,
   "metadata": {},
   "outputs": [
    {
     "output_type": "display_data",
     "data": {
      "text/plain": "<Figure size 432x288 with 1 Axes>",
      "image/svg+xml": "<?xml version=\"1.0\" encoding=\"utf-8\" standalone=\"no\"?>\n<!DOCTYPE svg PUBLIC \"-//W3C//DTD SVG 1.1//EN\"\n  \"http://www.w3.org/Graphics/SVG/1.1/DTD/svg11.dtd\">\n<!-- Created with matplotlib (https://matplotlib.org/) -->\n<svg height=\"259.116562pt\" version=\"1.1\" viewBox=\"0 0 362.5625 259.116562\" width=\"362.5625pt\" xmlns=\"http://www.w3.org/2000/svg\" xmlns:xlink=\"http://www.w3.org/1999/xlink\">\n <metadata>\n  <rdf:RDF xmlns:cc=\"http://creativecommons.org/ns#\" xmlns:dc=\"http://purl.org/dc/elements/1.1/\" xmlns:rdf=\"http://www.w3.org/1999/02/22-rdf-syntax-ns#\">\n   <cc:Work>\n    <dc:type rdf:resource=\"http://purl.org/dc/dcmitype/StillImage\"/>\n    <dc:date>2021-05-24T19:55:24.787229</dc:date>\n    <dc:format>image/svg+xml</dc:format>\n    <dc:creator>\n     <cc:Agent>\n      <dc:title>Matplotlib v3.3.4, https://matplotlib.org/</dc:title>\n     </cc:Agent>\n    </dc:creator>\n   </cc:Work>\n  </rdf:RDF>\n </metadata>\n <defs>\n  <style type=\"text/css\">*{stroke-linecap:butt;stroke-linejoin:round;}</style>\n </defs>\n <g id=\"figure_1\">\n  <g id=\"patch_1\">\n   <path d=\"M 0 259.116562 \nL 362.5625 259.116562 \nL 362.5625 0 \nL 0 0 \nz\n\" style=\"fill:none;\"/>\n  </g>\n  <g id=\"axes_1\">\n   <g id=\"patch_2\">\n    <path d=\"M 20.5625 235.238437 \nL 355.3625 235.238437 \nL 355.3625 17.798437 \nL 20.5625 17.798437 \nz\n\" style=\"fill:#ffffff;\"/>\n   </g>\n   <g id=\"matplotlib.axis_1\">\n    <g id=\"xtick_1\">\n     <g id=\"line2d_1\">\n      <defs>\n       <path d=\"M 0 0 \nL 0 3.5 \n\" id=\"md1a3982a8d\" style=\"stroke:#000000;stroke-width:0.8;\"/>\n      </defs>\n      <g>\n       <use style=\"stroke:#000000;stroke-width:0.8;\" x=\"59.193269\" xlink:href=\"#md1a3982a8d\" y=\"235.238437\"/>\n      </g>\n     </g>\n     <g id=\"text_1\">\n      <!-- 2 -->\n      <g transform=\"translate(56.012019 249.836875)scale(0.1 -0.1)\">\n       <defs>\n        <path d=\"M 19.1875 8.296875 \nL 53.609375 8.296875 \nL 53.609375 0 \nL 7.328125 0 \nL 7.328125 8.296875 \nQ 12.9375 14.109375 22.625 23.890625 \nQ 32.328125 33.6875 34.8125 36.53125 \nQ 39.546875 41.84375 41.421875 45.53125 \nQ 43.3125 49.21875 43.3125 52.78125 \nQ 43.3125 58.59375 39.234375 62.25 \nQ 35.15625 65.921875 28.609375 65.921875 \nQ 23.96875 65.921875 18.8125 64.3125 \nQ 13.671875 62.703125 7.8125 59.421875 \nL 7.8125 69.390625 \nQ 13.765625 71.78125 18.9375 73 \nQ 24.125 74.21875 28.421875 74.21875 \nQ 39.75 74.21875 46.484375 68.546875 \nQ 53.21875 62.890625 53.21875 53.421875 \nQ 53.21875 48.921875 51.53125 44.890625 \nQ 49.859375 40.875 45.40625 35.40625 \nQ 44.1875 33.984375 37.640625 27.21875 \nQ 31.109375 20.453125 19.1875 8.296875 \nz\n\" id=\"DejaVuSans-50\"/>\n       </defs>\n       <use xlink:href=\"#DejaVuSans-50\"/>\n      </g>\n     </g>\n    </g>\n    <g id=\"xtick_2\">\n     <g id=\"line2d_2\">\n      <g>\n       <use style=\"stroke:#000000;stroke-width:0.8;\" x=\"106.018444\" xlink:href=\"#md1a3982a8d\" y=\"235.238437\"/>\n      </g>\n     </g>\n     <g id=\"text_2\">\n      <!-- 4 -->\n      <g transform=\"translate(102.837194 249.836875)scale(0.1 -0.1)\">\n       <defs>\n        <path d=\"M 37.796875 64.3125 \nL 12.890625 25.390625 \nL 37.796875 25.390625 \nz\nM 35.203125 72.90625 \nL 47.609375 72.90625 \nL 47.609375 25.390625 \nL 58.015625 25.390625 \nL 58.015625 17.1875 \nL 47.609375 17.1875 \nL 47.609375 0 \nL 37.796875 0 \nL 37.796875 17.1875 \nL 4.890625 17.1875 \nL 4.890625 26.703125 \nz\n\" id=\"DejaVuSans-52\"/>\n       </defs>\n       <use xlink:href=\"#DejaVuSans-52\"/>\n      </g>\n     </g>\n    </g>\n    <g id=\"xtick_3\">\n     <g id=\"line2d_3\">\n      <g>\n       <use style=\"stroke:#000000;stroke-width:0.8;\" x=\"152.843619\" xlink:href=\"#md1a3982a8d\" y=\"235.238437\"/>\n      </g>\n     </g>\n     <g id=\"text_3\">\n      <!-- 6 -->\n      <g transform=\"translate(149.662369 249.836875)scale(0.1 -0.1)\">\n       <defs>\n        <path d=\"M 33.015625 40.375 \nQ 26.375 40.375 22.484375 35.828125 \nQ 18.609375 31.296875 18.609375 23.390625 \nQ 18.609375 15.53125 22.484375 10.953125 \nQ 26.375 6.390625 33.015625 6.390625 \nQ 39.65625 6.390625 43.53125 10.953125 \nQ 47.40625 15.53125 47.40625 23.390625 \nQ 47.40625 31.296875 43.53125 35.828125 \nQ 39.65625 40.375 33.015625 40.375 \nz\nM 52.59375 71.296875 \nL 52.59375 62.3125 \nQ 48.875 64.0625 45.09375 64.984375 \nQ 41.3125 65.921875 37.59375 65.921875 \nQ 27.828125 65.921875 22.671875 59.328125 \nQ 17.53125 52.734375 16.796875 39.40625 \nQ 19.671875 43.65625 24.015625 45.921875 \nQ 28.375 48.1875 33.59375 48.1875 \nQ 44.578125 48.1875 50.953125 41.515625 \nQ 57.328125 34.859375 57.328125 23.390625 \nQ 57.328125 12.15625 50.6875 5.359375 \nQ 44.046875 -1.421875 33.015625 -1.421875 \nQ 20.359375 -1.421875 13.671875 8.265625 \nQ 6.984375 17.96875 6.984375 36.375 \nQ 6.984375 53.65625 15.1875 63.9375 \nQ 23.390625 74.21875 37.203125 74.21875 \nQ 40.921875 74.21875 44.703125 73.484375 \nQ 48.484375 72.75 52.59375 71.296875 \nz\n\" id=\"DejaVuSans-54\"/>\n       </defs>\n       <use xlink:href=\"#DejaVuSans-54\"/>\n      </g>\n     </g>\n    </g>\n    <g id=\"xtick_4\">\n     <g id=\"line2d_4\">\n      <g>\n       <use style=\"stroke:#000000;stroke-width:0.8;\" x=\"199.668794\" xlink:href=\"#md1a3982a8d\" y=\"235.238437\"/>\n      </g>\n     </g>\n     <g id=\"text_4\">\n      <!-- 8 -->\n      <g transform=\"translate(196.487544 249.836875)scale(0.1 -0.1)\">\n       <defs>\n        <path d=\"M 31.78125 34.625 \nQ 24.75 34.625 20.71875 30.859375 \nQ 16.703125 27.09375 16.703125 20.515625 \nQ 16.703125 13.921875 20.71875 10.15625 \nQ 24.75 6.390625 31.78125 6.390625 \nQ 38.8125 6.390625 42.859375 10.171875 \nQ 46.921875 13.96875 46.921875 20.515625 \nQ 46.921875 27.09375 42.890625 30.859375 \nQ 38.875 34.625 31.78125 34.625 \nz\nM 21.921875 38.8125 \nQ 15.578125 40.375 12.03125 44.71875 \nQ 8.5 49.078125 8.5 55.328125 \nQ 8.5 64.0625 14.71875 69.140625 \nQ 20.953125 74.21875 31.78125 74.21875 \nQ 42.671875 74.21875 48.875 69.140625 \nQ 55.078125 64.0625 55.078125 55.328125 \nQ 55.078125 49.078125 51.53125 44.71875 \nQ 48 40.375 41.703125 38.8125 \nQ 48.828125 37.15625 52.796875 32.3125 \nQ 56.78125 27.484375 56.78125 20.515625 \nQ 56.78125 9.90625 50.3125 4.234375 \nQ 43.84375 -1.421875 31.78125 -1.421875 \nQ 19.734375 -1.421875 13.25 4.234375 \nQ 6.78125 9.90625 6.78125 20.515625 \nQ 6.78125 27.484375 10.78125 32.3125 \nQ 14.796875 37.15625 21.921875 38.8125 \nz\nM 18.3125 54.390625 \nQ 18.3125 48.734375 21.84375 45.5625 \nQ 25.390625 42.390625 31.78125 42.390625 \nQ 38.140625 42.390625 41.71875 45.5625 \nQ 45.3125 48.734375 45.3125 54.390625 \nQ 45.3125 60.0625 41.71875 63.234375 \nQ 38.140625 66.40625 31.78125 66.40625 \nQ 25.390625 66.40625 21.84375 63.234375 \nQ 18.3125 60.0625 18.3125 54.390625 \nz\n\" id=\"DejaVuSans-56\"/>\n       </defs>\n       <use xlink:href=\"#DejaVuSans-56\"/>\n      </g>\n     </g>\n    </g>\n    <g id=\"xtick_5\">\n     <g id=\"line2d_5\">\n      <g>\n       <use style=\"stroke:#000000;stroke-width:0.8;\" x=\"246.493969\" xlink:href=\"#md1a3982a8d\" y=\"235.238437\"/>\n      </g>\n     </g>\n     <g id=\"text_5\">\n      <!-- 10 -->\n      <g transform=\"translate(240.131469 249.836875)scale(0.1 -0.1)\">\n       <defs>\n        <path d=\"M 12.40625 8.296875 \nL 28.515625 8.296875 \nL 28.515625 63.921875 \nL 10.984375 60.40625 \nL 10.984375 69.390625 \nL 28.421875 72.90625 \nL 38.28125 72.90625 \nL 38.28125 8.296875 \nL 54.390625 8.296875 \nL 54.390625 0 \nL 12.40625 0 \nz\n\" id=\"DejaVuSans-49\"/>\n        <path d=\"M 31.78125 66.40625 \nQ 24.171875 66.40625 20.328125 58.90625 \nQ 16.5 51.421875 16.5 36.375 \nQ 16.5 21.390625 20.328125 13.890625 \nQ 24.171875 6.390625 31.78125 6.390625 \nQ 39.453125 6.390625 43.28125 13.890625 \nQ 47.125 21.390625 47.125 36.375 \nQ 47.125 51.421875 43.28125 58.90625 \nQ 39.453125 66.40625 31.78125 66.40625 \nz\nM 31.78125 74.21875 \nQ 44.046875 74.21875 50.515625 64.515625 \nQ 56.984375 54.828125 56.984375 36.375 \nQ 56.984375 17.96875 50.515625 8.265625 \nQ 44.046875 -1.421875 31.78125 -1.421875 \nQ 19.53125 -1.421875 13.0625 8.265625 \nQ 6.59375 17.96875 6.59375 36.375 \nQ 6.59375 54.828125 13.0625 64.515625 \nQ 19.53125 74.21875 31.78125 74.21875 \nz\n\" id=\"DejaVuSans-48\"/>\n       </defs>\n       <use xlink:href=\"#DejaVuSans-49\"/>\n       <use x=\"63.623047\" xlink:href=\"#DejaVuSans-48\"/>\n      </g>\n     </g>\n    </g>\n    <g id=\"xtick_6\">\n     <g id=\"line2d_6\">\n      <g>\n       <use style=\"stroke:#000000;stroke-width:0.8;\" x=\"293.319143\" xlink:href=\"#md1a3982a8d\" y=\"235.238437\"/>\n      </g>\n     </g>\n     <g id=\"text_6\">\n      <!-- 12 -->\n      <g transform=\"translate(286.956643 249.836875)scale(0.1 -0.1)\">\n       <use xlink:href=\"#DejaVuSans-49\"/>\n       <use x=\"63.623047\" xlink:href=\"#DejaVuSans-50\"/>\n      </g>\n     </g>\n    </g>\n    <g id=\"xtick_7\">\n     <g id=\"line2d_7\">\n      <g>\n       <use style=\"stroke:#000000;stroke-width:0.8;\" x=\"340.144318\" xlink:href=\"#md1a3982a8d\" y=\"235.238437\"/>\n      </g>\n     </g>\n     <g id=\"text_7\">\n      <!-- 14 -->\n      <g transform=\"translate(333.781818 249.836875)scale(0.1 -0.1)\">\n       <use xlink:href=\"#DejaVuSans-49\"/>\n       <use x=\"63.623047\" xlink:href=\"#DejaVuSans-52\"/>\n      </g>\n     </g>\n    </g>\n   </g>\n   <g id=\"matplotlib.axis_2\">\n    <g id=\"ytick_1\">\n     <g id=\"line2d_8\">\n      <defs>\n       <path d=\"M 0 0 \nL -3.5 0 \n\" id=\"m23ce1d629f\" style=\"stroke:#000000;stroke-width:0.8;\"/>\n      </defs>\n      <g>\n       <use style=\"stroke:#000000;stroke-width:0.8;\" x=\"20.5625\" xlink:href=\"#m23ce1d629f\" y=\"218.927791\"/>\n      </g>\n     </g>\n     <g id=\"text_8\">\n      <!-- 1 -->\n      <g transform=\"translate(7.2 222.72701)scale(0.1 -0.1)\">\n       <use xlink:href=\"#DejaVuSans-49\"/>\n      </g>\n     </g>\n    </g>\n    <g id=\"ytick_2\">\n     <g id=\"line2d_9\">\n      <g>\n       <use style=\"stroke:#000000;stroke-width:0.8;\" x=\"20.5625\" xlink:href=\"#m23ce1d629f\" y=\"177.253744\"/>\n      </g>\n     </g>\n     <g id=\"text_9\">\n      <!-- 2 -->\n      <g transform=\"translate(7.2 181.052963)scale(0.1 -0.1)\">\n       <use xlink:href=\"#DejaVuSans-50\"/>\n      </g>\n     </g>\n    </g>\n    <g id=\"ytick_3\">\n     <g id=\"line2d_10\">\n      <g>\n       <use style=\"stroke:#000000;stroke-width:0.8;\" x=\"20.5625\" xlink:href=\"#m23ce1d629f\" y=\"135.579697\"/>\n      </g>\n     </g>\n     <g id=\"text_10\">\n      <!-- 3 -->\n      <g transform=\"translate(7.2 139.378915)scale(0.1 -0.1)\">\n       <defs>\n        <path d=\"M 40.578125 39.3125 \nQ 47.65625 37.796875 51.625 33 \nQ 55.609375 28.21875 55.609375 21.1875 \nQ 55.609375 10.40625 48.1875 4.484375 \nQ 40.765625 -1.421875 27.09375 -1.421875 \nQ 22.515625 -1.421875 17.65625 -0.515625 \nQ 12.796875 0.390625 7.625 2.203125 \nL 7.625 11.71875 \nQ 11.71875 9.328125 16.59375 8.109375 \nQ 21.484375 6.890625 26.8125 6.890625 \nQ 36.078125 6.890625 40.9375 10.546875 \nQ 45.796875 14.203125 45.796875 21.1875 \nQ 45.796875 27.640625 41.28125 31.265625 \nQ 36.765625 34.90625 28.71875 34.90625 \nL 20.21875 34.90625 \nL 20.21875 43.015625 \nL 29.109375 43.015625 \nQ 36.375 43.015625 40.234375 45.921875 \nQ 44.09375 48.828125 44.09375 54.296875 \nQ 44.09375 59.90625 40.109375 62.90625 \nQ 36.140625 65.921875 28.71875 65.921875 \nQ 24.65625 65.921875 20.015625 65.03125 \nQ 15.375 64.15625 9.8125 62.3125 \nL 9.8125 71.09375 \nQ 15.4375 72.65625 20.34375 73.4375 \nQ 25.25 74.21875 29.59375 74.21875 \nQ 40.828125 74.21875 47.359375 69.109375 \nQ 53.90625 64.015625 53.90625 55.328125 \nQ 53.90625 49.265625 50.4375 45.09375 \nQ 46.96875 40.921875 40.578125 39.3125 \nz\n\" id=\"DejaVuSans-51\"/>\n       </defs>\n       <use xlink:href=\"#DejaVuSans-51\"/>\n      </g>\n     </g>\n    </g>\n    <g id=\"ytick_4\">\n     <g id=\"line2d_11\">\n      <g>\n       <use style=\"stroke:#000000;stroke-width:0.8;\" x=\"20.5625\" xlink:href=\"#m23ce1d629f\" y=\"93.905649\"/>\n      </g>\n     </g>\n     <g id=\"text_11\">\n      <!-- 4 -->\n      <g transform=\"translate(7.2 97.704868)scale(0.1 -0.1)\">\n       <use xlink:href=\"#DejaVuSans-52\"/>\n      </g>\n     </g>\n    </g>\n    <g id=\"ytick_5\">\n     <g id=\"line2d_12\">\n      <g>\n       <use style=\"stroke:#000000;stroke-width:0.8;\" x=\"20.5625\" xlink:href=\"#m23ce1d629f\" y=\"52.231602\"/>\n      </g>\n     </g>\n     <g id=\"text_12\">\n      <!-- 5 -->\n      <g transform=\"translate(7.2 56.030821)scale(0.1 -0.1)\">\n       <defs>\n        <path d=\"M 10.796875 72.90625 \nL 49.515625 72.90625 \nL 49.515625 64.59375 \nL 19.828125 64.59375 \nL 19.828125 46.734375 \nQ 21.96875 47.46875 24.109375 47.828125 \nQ 26.265625 48.1875 28.421875 48.1875 \nQ 40.625 48.1875 47.75 41.5 \nQ 54.890625 34.8125 54.890625 23.390625 \nQ 54.890625 11.625 47.5625 5.09375 \nQ 40.234375 -1.421875 26.90625 -1.421875 \nQ 22.3125 -1.421875 17.546875 -0.640625 \nQ 12.796875 0.140625 7.71875 1.703125 \nL 7.71875 11.625 \nQ 12.109375 9.234375 16.796875 8.0625 \nQ 21.484375 6.890625 26.703125 6.890625 \nQ 35.15625 6.890625 40.078125 11.328125 \nQ 45.015625 15.765625 45.015625 23.390625 \nQ 45.015625 31 40.078125 35.4375 \nQ 35.15625 39.890625 26.703125 39.890625 \nQ 22.75 39.890625 18.8125 39.015625 \nQ 14.890625 38.140625 10.796875 36.28125 \nz\n\" id=\"DejaVuSans-53\"/>\n       </defs>\n       <use xlink:href=\"#DejaVuSans-53\"/>\n      </g>\n     </g>\n    </g>\n    <g id=\"text_13\">\n     <!-- 1e7 -->\n     <g transform=\"translate(20.5625 14.798437)scale(0.1 -0.1)\">\n      <defs>\n       <path d=\"M 56.203125 29.59375 \nL 56.203125 25.203125 \nL 14.890625 25.203125 \nQ 15.484375 15.921875 20.484375 11.0625 \nQ 25.484375 6.203125 34.421875 6.203125 \nQ 39.59375 6.203125 44.453125 7.46875 \nQ 49.3125 8.734375 54.109375 11.28125 \nL 54.109375 2.78125 \nQ 49.265625 0.734375 44.1875 -0.34375 \nQ 39.109375 -1.421875 33.890625 -1.421875 \nQ 20.796875 -1.421875 13.15625 6.1875 \nQ 5.515625 13.8125 5.515625 26.8125 \nQ 5.515625 40.234375 12.765625 48.109375 \nQ 20.015625 56 32.328125 56 \nQ 43.359375 56 49.78125 48.890625 \nQ 56.203125 41.796875 56.203125 29.59375 \nz\nM 47.21875 32.234375 \nQ 47.125 39.59375 43.09375 43.984375 \nQ 39.0625 48.390625 32.421875 48.390625 \nQ 24.90625 48.390625 20.390625 44.140625 \nQ 15.875 39.890625 15.1875 32.171875 \nz\n\" id=\"DejaVuSans-101\"/>\n       <path d=\"M 8.203125 72.90625 \nL 55.078125 72.90625 \nL 55.078125 68.703125 \nL 28.609375 0 \nL 18.3125 0 \nL 43.21875 64.59375 \nL 8.203125 64.59375 \nz\n\" id=\"DejaVuSans-55\"/>\n      </defs>\n      <use xlink:href=\"#DejaVuSans-49\"/>\n      <use x=\"63.623047\" xlink:href=\"#DejaVuSans-101\"/>\n      <use x=\"125.146484\" xlink:href=\"#DejaVuSans-55\"/>\n     </g>\n    </g>\n   </g>\n   <g id=\"line2d_13\">\n    <path clip-path=\"url(#pbdf19378c7)\" d=\"M 35.780682 27.682074 \nL 59.193269 95.544483 \nL 82.605857 140.166252 \nL 106.018444 162.56451 \nL 129.431031 179.13988 \nL 152.843619 192.088135 \nL 176.256206 199.627923 \nL 199.668794 205.67506 \nL 223.081381 210.903907 \nL 246.493969 214.86801 \nL 269.906556 218.112304 \nL 293.319143 220.961186 \nL 316.731731 223.425644 \nL 340.144318 225.354801 \n\" style=\"fill:none;stroke:#1f77b4;stroke-linecap:square;stroke-width:1.5;\"/>\n    <defs>\n     <path d=\"M 0 3 \nC 0.795609 3 1.55874 2.683901 2.12132 2.12132 \nC 2.683901 1.55874 3 0.795609 3 0 \nC 3 -0.795609 2.683901 -1.55874 2.12132 -2.12132 \nC 1.55874 -2.683901 0.795609 -3 0 -3 \nC -0.795609 -3 -1.55874 -2.683901 -2.12132 -2.12132 \nC -2.683901 -1.55874 -3 -0.795609 -3 0 \nC -3 0.795609 -2.683901 1.55874 -2.12132 2.12132 \nC -1.55874 2.683901 -0.795609 3 0 3 \nz\n\" id=\"m7fddd120c8\" style=\"stroke:#1f77b4;\"/>\n    </defs>\n    <g clip-path=\"url(#pbdf19378c7)\">\n     <use style=\"fill:#1f77b4;stroke:#1f77b4;\" x=\"35.780682\" xlink:href=\"#m7fddd120c8\" y=\"27.682074\"/>\n     <use style=\"fill:#1f77b4;stroke:#1f77b4;\" x=\"59.193269\" xlink:href=\"#m7fddd120c8\" y=\"95.544483\"/>\n     <use style=\"fill:#1f77b4;stroke:#1f77b4;\" x=\"82.605857\" xlink:href=\"#m7fddd120c8\" y=\"140.166252\"/>\n     <use style=\"fill:#1f77b4;stroke:#1f77b4;\" x=\"106.018444\" xlink:href=\"#m7fddd120c8\" y=\"162.56451\"/>\n     <use style=\"fill:#1f77b4;stroke:#1f77b4;\" x=\"129.431031\" xlink:href=\"#m7fddd120c8\" y=\"179.13988\"/>\n     <use style=\"fill:#1f77b4;stroke:#1f77b4;\" x=\"152.843619\" xlink:href=\"#m7fddd120c8\" y=\"192.088135\"/>\n     <use style=\"fill:#1f77b4;stroke:#1f77b4;\" x=\"176.256206\" xlink:href=\"#m7fddd120c8\" y=\"199.627923\"/>\n     <use style=\"fill:#1f77b4;stroke:#1f77b4;\" x=\"199.668794\" xlink:href=\"#m7fddd120c8\" y=\"205.67506\"/>\n     <use style=\"fill:#1f77b4;stroke:#1f77b4;\" x=\"223.081381\" xlink:href=\"#m7fddd120c8\" y=\"210.903907\"/>\n     <use style=\"fill:#1f77b4;stroke:#1f77b4;\" x=\"246.493969\" xlink:href=\"#m7fddd120c8\" y=\"214.86801\"/>\n     <use style=\"fill:#1f77b4;stroke:#1f77b4;\" x=\"269.906556\" xlink:href=\"#m7fddd120c8\" y=\"218.112304\"/>\n     <use style=\"fill:#1f77b4;stroke:#1f77b4;\" x=\"293.319143\" xlink:href=\"#m7fddd120c8\" y=\"220.961186\"/>\n     <use style=\"fill:#1f77b4;stroke:#1f77b4;\" x=\"316.731731\" xlink:href=\"#m7fddd120c8\" y=\"223.425644\"/>\n     <use style=\"fill:#1f77b4;stroke:#1f77b4;\" x=\"340.144318\" xlink:href=\"#m7fddd120c8\" y=\"225.354801\"/>\n    </g>\n   </g>\n   <g id=\"patch_3\">\n    <path d=\"M 20.5625 235.238437 \nL 20.5625 17.798437 \n\" style=\"fill:none;stroke:#000000;stroke-linecap:square;stroke-linejoin:miter;stroke-width:0.8;\"/>\n   </g>\n   <g id=\"patch_4\">\n    <path d=\"M 355.3625 235.238437 \nL 355.3625 17.798437 \n\" style=\"fill:none;stroke:#000000;stroke-linecap:square;stroke-linejoin:miter;stroke-width:0.8;\"/>\n   </g>\n   <g id=\"patch_5\">\n    <path d=\"M 20.5625 235.238437 \nL 355.3625 235.238437 \n\" style=\"fill:none;stroke:#000000;stroke-linecap:square;stroke-linejoin:miter;stroke-width:0.8;\"/>\n   </g>\n   <g id=\"patch_6\">\n    <path d=\"M 20.5625 17.798437 \nL 355.3625 17.798437 \n\" style=\"fill:none;stroke:#000000;stroke-linecap:square;stroke-linejoin:miter;stroke-width:0.8;\"/>\n   </g>\n  </g>\n </g>\n <defs>\n  <clipPath id=\"pbdf19378c7\">\n   <rect height=\"217.44\" width=\"334.8\" x=\"20.5625\" y=\"17.798437\"/>\n  </clipPath>\n </defs>\n</svg>\n",
      "image/png": "[encoded data removed]"
     },
     "metadata": {
      "needs_background": "light"
     }
    }
   ],
   "source": [
    "# K值查找\n",
    "distor =[]\n",
    "for i in range(1,15):\n",
    "    km = KMeans(n_clusters =i)\n",
    "    km.fit(data_k)\n",
    "    distor.append(km.inertia_)\n",
    "plt.plot(range(1,15),distor,marker='o')\n",
    "plt.show()"
   ]
  },
  {
   "cell_type": "code",
   "execution_count": 12,
   "metadata": {},
   "outputs": [
    {
     "output_type": "display_data",
     "data": {
      "text/plain": "    count       ΔМ, t     ΔТ, °C   Q, Gcal\n0   92998    1.208342  15.176531  2.298668\n1   96324    3.432149  34.988545  4.047253\n2  148179    0.605950  24.793007  2.968897\n3   11587   29.603102  24.630576  6.414046\n4   81465   11.105069  22.615159  3.281695\n5     153  203.216601  23.973203  5.635948",
      "text/html": "<div>\n<style scoped>\n    .dataframe tbody tr th:only-of-type {\n        vertical-align: middle;\n    }\n\n    .dataframe tbody tr th {\n        vertical-align: top;\n    }\n\n    .dataframe thead th {\n        text-align: right;\n    }\n</style>\n<table border=\"1\" class=\"dataframe\">\n  <thead>\n    <tr style=\"text-align: right;\">\n      <th></th>\n      <th>count</th>\n      <th>ΔМ, t</th>\n      <th>ΔТ, °C</th>\n      <th>Q, Gcal</th>\n    </tr>\n  </thead>\n  <tbody>\n    <tr>\n      <th>0</th>\n      <td>92998</td>\n      <td>1.208342</td>\n      <td>15.176531</td>\n      <td>2.298668</td>\n    </tr>\n    <tr>\n      <th>1</th>\n      <td>96324</td>\n      <td>3.432149</td>\n      <td>34.988545</td>\n      <td>4.047253</td>\n    </tr>\n    <tr>\n      <th>2</th>\n      <td>148179</td>\n      <td>0.605950</td>\n      <td>24.793007</td>\n      <td>2.968897</td>\n    </tr>\n    <tr>\n      <th>3</th>\n      <td>11587</td>\n      <td>29.603102</td>\n      <td>24.630576</td>\n      <td>6.414046</td>\n    </tr>\n    <tr>\n      <th>4</th>\n      <td>81465</td>\n      <td>11.105069</td>\n      <td>22.615159</td>\n      <td>3.281695</td>\n    </tr>\n    <tr>\n      <th>5</th>\n      <td>153</td>\n      <td>203.216601</td>\n      <td>23.973203</td>\n      <td>5.635948</td>\n    </tr>\n  </tbody>\n</table>\n</div>"
     },
     "metadata": {}
    }
   ],
   "source": [
    "# kmeans聚类训练\n",
    "mod = KMeans(n_clusters=6,random_state=255)\n",
    "y_pre = mod.fit_predict(data_k)\n",
    "# 聚类的数目\n",
    "r1 = pd.Series(mod.labels_).value_counts()\n",
    "# 聚类的质心\n",
    "r2 = pd.DataFrame(mod.cluster_centers_)\n",
    "# 将获取到的聚类的数目以及获取的质心合并\n",
    "r = pd.concat([r1,r2],axis = 1)\n",
    "r.columns = [\"count\",\"ΔМ, t\",\"ΔТ, °C\",\"Q, Gcal\"]\n",
    "data_k[\"kmeans_class\"] = y_pre\n",
    "display(r)"
   ]
  },
  {
   "cell_type": "code",
   "execution_count": 13,
   "metadata": {},
   "outputs": [],
   "source": [
    "X = data_Label.drop(columns=['Q, Gcal'])\n",
    "y = data_Label['Q, Gcal']"
   ]
  },
  {
   "cell_type": "code",
   "execution_count": 14,
   "metadata": {},
   "outputs": [
    {
     "output_type": "display_data",
     "data": {
      "text/plain": "<Figure size 432x288 with 1 Axes>",
      "image/svg+xml": "<?xml version=\"1.0\" encoding=\"utf-8\" standalone=\"no\"?>\n<!DOCTYPE svg PUBLIC \"-//W3C//DTD SVG 1.1//EN\"\n  \"http://www.w3.org/Graphics/SVG/1.1/DTD/svg11.dtd\">\n<!-- Created with matplotlib (https://matplotlib.org/) -->\n<svg height=\"262.19625pt\" version=\"1.1\" viewBox=\"0 0 385.78125 262.19625\" width=\"385.78125pt\" xmlns=\"http://www.w3.org/2000/svg\" xmlns:xlink=\"http://www.w3.org/1999/xlink\">\n <metadata>\n  <rdf:RDF xmlns:cc=\"http://creativecommons.org/ns#\" xmlns:dc=\"http://purl.org/dc/elements/1.1/\" xmlns:rdf=\"http://www.w3.org/1999/02/22-rdf-syntax-ns#\">\n   <cc:Work>\n    <dc:type rdf:resource=\"http://purl.org/dc/dcmitype/StillImage\"/>\n    <dc:date>2021-05-24T19:55:35.536016</dc:date>\n    <dc:format>image/svg+xml</dc:format>\n    <dc:creator>\n     <cc:Agent>\n      <dc:title>Matplotlib v3.3.4, https://matplotlib.org/</dc:title>\n     </cc:Agent>\n    </dc:creator>\n   </cc:Work>\n  </rdf:RDF>\n </metadata>\n <defs>\n  <style type=\"text/css\">*{stroke-linecap:butt;stroke-linejoin:round;}</style>\n </defs>\n <g id=\"figure_1\">\n  <g id=\"patch_1\">\n   <path d=\"M 0 262.19625 \nL 385.78125 262.19625 \nL 385.78125 0 \nL 0 0 \nz\n\" style=\"fill:none;\"/>\n  </g>\n  <g id=\"axes_1\">\n   <g id=\"patch_2\">\n    <path d=\"M 43.78125 224.64 \nL 378.58125 224.64 \nL 378.58125 7.2 \nL 43.78125 7.2 \nz\n\" style=\"fill:#ffffff;\"/>\n   </g>\n   <g id=\"patch_3\">\n    <path clip-path=\"url(#pfdb075ebeb)\" d=\"M 58.999432 224.64 \nL 74.410249 224.64 \nL 74.410249 17.554286 \nL 58.999432 17.554286 \nz\n\" style=\"fill:#1f77b4;\"/>\n   </g>\n   <g id=\"patch_4\">\n    <path clip-path=\"url(#pfdb075ebeb)\" d=\"M 78.262953 224.64 \nL 93.67377 224.64 \nL 93.67377 53.269274 \nL 78.262953 53.269274 \nz\n\" style=\"fill:#1f77b4;\"/>\n   </g>\n   <g id=\"patch_5\">\n    <path clip-path=\"url(#pfdb075ebeb)\" d=\"M 97.526474 224.64 \nL 112.937291 224.64 \nL 112.937291 92.789807 \nL 97.526474 92.789807 \nz\n\" style=\"fill:#1f77b4;\"/>\n   </g>\n   <g id=\"patch_6\">\n    <path clip-path=\"url(#pfdb075ebeb)\" d=\"M 116.789996 224.64 \nL 132.200813 224.64 \nL 132.200813 139.827384 \nL 116.789996 139.827384 \nz\n\" style=\"fill:#1f77b4;\"/>\n   </g>\n   <g id=\"patch_7\">\n    <path clip-path=\"url(#pfdb075ebeb)\" d=\"M 136.053517 224.64 \nL 151.464334 224.64 \nL 151.464334 159.08426 \nL 136.053517 159.08426 \nz\n\" style=\"fill:#1f77b4;\"/>\n   </g>\n   <g id=\"patch_8\">\n    <path clip-path=\"url(#pfdb075ebeb)\" d=\"M 155.317038 224.64 \nL 170.727855 224.64 \nL 170.727855 174.89143 \nL 155.317038 174.89143 \nz\n\" style=\"fill:#1f77b4;\"/>\n   </g>\n   <g id=\"patch_9\">\n    <path clip-path=\"url(#pfdb075ebeb)\" d=\"M 174.58056 224.64 \nL 189.991377 224.64 \nL 189.991377 181.530478 \nL 174.58056 181.530478 \nz\n\" style=\"fill:#1f77b4;\"/>\n   </g>\n   <g id=\"patch_10\">\n    <path clip-path=\"url(#pfdb075ebeb)\" d=\"M 193.844081 224.64 \nL 209.254898 224.64 \nL 209.254898 184.410615 \nL 193.844081 184.410615 \nz\n\" style=\"fill:#1f77b4;\"/>\n   </g>\n   <g id=\"patch_11\">\n    <path clip-path=\"url(#pfdb075ebeb)\" d=\"M 213.107602 224.64 \nL 228.518419 224.64 \nL 228.518419 187.214423 \nL 213.107602 187.214423 \nz\n\" style=\"fill:#1f77b4;\"/>\n   </g>\n   <g id=\"patch_12\">\n    <path clip-path=\"url(#pfdb075ebeb)\" d=\"M 232.371123 224.64 \nL 247.78194 224.64 \nL 247.78194 206.422854 \nL 232.371123 206.422854 \nz\n\" style=\"fill:#1f77b4;\"/>\n   </g>\n   <g id=\"patch_13\">\n    <path clip-path=\"url(#pfdb075ebeb)\" d=\"M 251.634645 224.64 \nL 267.045462 224.64 \nL 267.045462 209.155035 \nL 251.634645 209.155035 \nz\n\" style=\"fill:#1f77b4;\"/>\n   </g>\n   <g id=\"patch_14\">\n    <path clip-path=\"url(#pfdb075ebeb)\" d=\"M 270.898166 224.64 \nL 286.308983 224.64 \nL 286.308983 210.402127 \nL 270.898166 210.402127 \nz\n\" style=\"fill:#1f77b4;\"/>\n   </g>\n   <g id=\"patch_15\">\n    <path clip-path=\"url(#pfdb075ebeb)\" d=\"M 290.161687 224.64 \nL 305.572504 224.64 \nL 305.572504 217.624054 \nL 290.161687 217.624054 \nz\n\" style=\"fill:#1f77b4;\"/>\n   </g>\n   <g id=\"patch_16\">\n    <path clip-path=\"url(#pfdb075ebeb)\" d=\"M 309.425209 224.64 \nL 324.836026 224.64 \nL 324.836026 224.541852 \nL 309.425209 224.541852 \nz\n\" style=\"fill:#1f77b4;\"/>\n   </g>\n   <g id=\"patch_17\">\n    <path clip-path=\"url(#pfdb075ebeb)\" d=\"M 328.68873 224.64 \nL 344.099547 224.64 \nL 344.099547 224.639998 \nL 328.68873 224.639998 \nz\n\" style=\"fill:#1f77b4;\"/>\n   </g>\n   <g id=\"patch_18\">\n    <path clip-path=\"url(#pfdb075ebeb)\" d=\"M 347.952251 224.64 \nL 363.363068 224.64 \nL 363.363068 224.64 \nL 347.952251 224.64 \nz\n\" style=\"fill:#1f77b4;\"/>\n   </g>\n   <g id=\"matplotlib.axis_1\">\n    <g id=\"xtick_1\">\n     <g id=\"line2d_1\">\n      <defs>\n       <path d=\"M 0 0 \nL 0 3.5 \n\" id=\"m8aa7b80caa\" style=\"stroke:#000000;stroke-width:0.8;\"/>\n      </defs>\n      <g>\n       <use style=\"stroke:#000000;stroke-width:0.8;\" x=\"66.70484\" xlink:href=\"#m8aa7b80caa\" y=\"224.64\"/>\n      </g>\n     </g>\n     <g id=\"text_1\">\n      <!-- 0 -->\n      <g transform=\"translate(63.52359 239.238437)scale(0.1 -0.1)\">\n       <defs>\n        <path d=\"M 31.78125 66.40625 \nQ 24.171875 66.40625 20.328125 58.90625 \nQ 16.5 51.421875 16.5 36.375 \nQ 16.5 21.390625 20.328125 13.890625 \nQ 24.171875 6.390625 31.78125 6.390625 \nQ 39.453125 6.390625 43.28125 13.890625 \nQ 47.125 21.390625 47.125 36.375 \nQ 47.125 51.421875 43.28125 58.90625 \nQ 39.453125 66.40625 31.78125 66.40625 \nz\nM 31.78125 74.21875 \nQ 44.046875 74.21875 50.515625 64.515625 \nQ 56.984375 54.828125 56.984375 36.375 \nQ 56.984375 17.96875 50.515625 8.265625 \nQ 44.046875 -1.421875 31.78125 -1.421875 \nQ 19.53125 -1.421875 13.0625 8.265625 \nQ 6.59375 17.96875 6.59375 36.375 \nQ 6.59375 54.828125 13.0625 64.515625 \nQ 19.53125 74.21875 31.78125 74.21875 \nz\n\" id=\"DejaVuSans-48\"/>\n       </defs>\n       <use xlink:href=\"#DejaVuSans-48\"/>\n      </g>\n     </g>\n    </g>\n    <g id=\"xtick_2\">\n     <g id=\"line2d_2\">\n      <g>\n       <use style=\"stroke:#000000;stroke-width:0.8;\" x=\"85.968362\" xlink:href=\"#m8aa7b80caa\" y=\"224.64\"/>\n      </g>\n     </g>\n     <g id=\"text_2\">\n      <!-- 1 -->\n      <g transform=\"translate(82.787112 239.238437)scale(0.1 -0.1)\">\n       <defs>\n        <path d=\"M 12.40625 8.296875 \nL 28.515625 8.296875 \nL 28.515625 63.921875 \nL 10.984375 60.40625 \nL 10.984375 69.390625 \nL 28.421875 72.90625 \nL 38.28125 72.90625 \nL 38.28125 8.296875 \nL 54.390625 8.296875 \nL 54.390625 0 \nL 12.40625 0 \nz\n\" id=\"DejaVuSans-49\"/>\n       </defs>\n       <use xlink:href=\"#DejaVuSans-49\"/>\n      </g>\n     </g>\n    </g>\n    <g id=\"xtick_3\">\n     <g id=\"line2d_3\">\n      <g>\n       <use style=\"stroke:#000000;stroke-width:0.8;\" x=\"105.231883\" xlink:href=\"#m8aa7b80caa\" y=\"224.64\"/>\n      </g>\n     </g>\n     <g id=\"text_3\">\n      <!-- 2 -->\n      <g transform=\"translate(102.050633 239.238437)scale(0.1 -0.1)\">\n       <defs>\n        <path d=\"M 19.1875 8.296875 \nL 53.609375 8.296875 \nL 53.609375 0 \nL 7.328125 0 \nL 7.328125 8.296875 \nQ 12.9375 14.109375 22.625 23.890625 \nQ 32.328125 33.6875 34.8125 36.53125 \nQ 39.546875 41.84375 41.421875 45.53125 \nQ 43.3125 49.21875 43.3125 52.78125 \nQ 43.3125 58.59375 39.234375 62.25 \nQ 35.15625 65.921875 28.609375 65.921875 \nQ 23.96875 65.921875 18.8125 64.3125 \nQ 13.671875 62.703125 7.8125 59.421875 \nL 7.8125 69.390625 \nQ 13.765625 71.78125 18.9375 73 \nQ 24.125 74.21875 28.421875 74.21875 \nQ 39.75 74.21875 46.484375 68.546875 \nQ 53.21875 62.890625 53.21875 53.421875 \nQ 53.21875 48.921875 51.53125 44.890625 \nQ 49.859375 40.875 45.40625 35.40625 \nQ 44.1875 33.984375 37.640625 27.21875 \nQ 31.109375 20.453125 19.1875 8.296875 \nz\n\" id=\"DejaVuSans-50\"/>\n       </defs>\n       <use xlink:href=\"#DejaVuSans-50\"/>\n      </g>\n     </g>\n    </g>\n    <g id=\"xtick_4\">\n     <g id=\"line2d_4\">\n      <g>\n       <use style=\"stroke:#000000;stroke-width:0.8;\" x=\"124.495404\" xlink:href=\"#m8aa7b80caa\" y=\"224.64\"/>\n      </g>\n     </g>\n     <g id=\"text_4\">\n      <!-- 3 -->\n      <g transform=\"translate(121.314154 239.238437)scale(0.1 -0.1)\">\n       <defs>\n        <path d=\"M 40.578125 39.3125 \nQ 47.65625 37.796875 51.625 33 \nQ 55.609375 28.21875 55.609375 21.1875 \nQ 55.609375 10.40625 48.1875 4.484375 \nQ 40.765625 -1.421875 27.09375 -1.421875 \nQ 22.515625 -1.421875 17.65625 -0.515625 \nQ 12.796875 0.390625 7.625 2.203125 \nL 7.625 11.71875 \nQ 11.71875 9.328125 16.59375 8.109375 \nQ 21.484375 6.890625 26.8125 6.890625 \nQ 36.078125 6.890625 40.9375 10.546875 \nQ 45.796875 14.203125 45.796875 21.1875 \nQ 45.796875 27.640625 41.28125 31.265625 \nQ 36.765625 34.90625 28.71875 34.90625 \nL 20.21875 34.90625 \nL 20.21875 43.015625 \nL 29.109375 43.015625 \nQ 36.375 43.015625 40.234375 45.921875 \nQ 44.09375 48.828125 44.09375 54.296875 \nQ 44.09375 59.90625 40.109375 62.90625 \nQ 36.140625 65.921875 28.71875 65.921875 \nQ 24.65625 65.921875 20.015625 65.03125 \nQ 15.375 64.15625 9.8125 62.3125 \nL 9.8125 71.09375 \nQ 15.4375 72.65625 20.34375 73.4375 \nQ 25.25 74.21875 29.59375 74.21875 \nQ 40.828125 74.21875 47.359375 69.109375 \nQ 53.90625 64.015625 53.90625 55.328125 \nQ 53.90625 49.265625 50.4375 45.09375 \nQ 46.96875 40.921875 40.578125 39.3125 \nz\n\" id=\"DejaVuSans-51\"/>\n       </defs>\n       <use xlink:href=\"#DejaVuSans-51\"/>\n      </g>\n     </g>\n    </g>\n    <g id=\"xtick_5\">\n     <g id=\"line2d_5\">\n      <g>\n       <use style=\"stroke:#000000;stroke-width:0.8;\" x=\"143.758925\" xlink:href=\"#m8aa7b80caa\" y=\"224.64\"/>\n      </g>\n     </g>\n     <g id=\"text_5\">\n      <!-- 4 -->\n      <g transform=\"translate(140.577675 239.238437)scale(0.1 -0.1)\">\n       <defs>\n        <path d=\"M 37.796875 64.3125 \nL 12.890625 25.390625 \nL 37.796875 25.390625 \nz\nM 35.203125 72.90625 \nL 47.609375 72.90625 \nL 47.609375 25.390625 \nL 58.015625 25.390625 \nL 58.015625 17.1875 \nL 47.609375 17.1875 \nL 47.609375 0 \nL 37.796875 0 \nL 37.796875 17.1875 \nL 4.890625 17.1875 \nL 4.890625 26.703125 \nz\n\" id=\"DejaVuSans-52\"/>\n       </defs>\n       <use xlink:href=\"#DejaVuSans-52\"/>\n      </g>\n     </g>\n    </g>\n    <g id=\"xtick_6\">\n     <g id=\"line2d_6\">\n      <g>\n       <use style=\"stroke:#000000;stroke-width:0.8;\" x=\"163.022447\" xlink:href=\"#m8aa7b80caa\" y=\"224.64\"/>\n      </g>\n     </g>\n     <g id=\"text_6\">\n      <!-- 5 -->\n      <g transform=\"translate(159.841197 239.238437)scale(0.1 -0.1)\">\n       <defs>\n        <path d=\"M 10.796875 72.90625 \nL 49.515625 72.90625 \nL 49.515625 64.59375 \nL 19.828125 64.59375 \nL 19.828125 46.734375 \nQ 21.96875 47.46875 24.109375 47.828125 \nQ 26.265625 48.1875 28.421875 48.1875 \nQ 40.625 48.1875 47.75 41.5 \nQ 54.890625 34.8125 54.890625 23.390625 \nQ 54.890625 11.625 47.5625 5.09375 \nQ 40.234375 -1.421875 26.90625 -1.421875 \nQ 22.3125 -1.421875 17.546875 -0.640625 \nQ 12.796875 0.140625 7.71875 1.703125 \nL 7.71875 11.625 \nQ 12.109375 9.234375 16.796875 8.0625 \nQ 21.484375 6.890625 26.703125 6.890625 \nQ 35.15625 6.890625 40.078125 11.328125 \nQ 45.015625 15.765625 45.015625 23.390625 \nQ 45.015625 31 40.078125 35.4375 \nQ 35.15625 39.890625 26.703125 39.890625 \nQ 22.75 39.890625 18.8125 39.015625 \nQ 14.890625 38.140625 10.796875 36.28125 \nz\n\" id=\"DejaVuSans-53\"/>\n       </defs>\n       <use xlink:href=\"#DejaVuSans-53\"/>\n      </g>\n     </g>\n    </g>\n    <g id=\"xtick_7\">\n     <g id=\"line2d_7\">\n      <g>\n       <use style=\"stroke:#000000;stroke-width:0.8;\" x=\"182.285968\" xlink:href=\"#m8aa7b80caa\" y=\"224.64\"/>\n      </g>\n     </g>\n     <g id=\"text_7\">\n      <!-- 6 -->\n      <g transform=\"translate(179.104718 239.238437)scale(0.1 -0.1)\">\n       <defs>\n        <path d=\"M 33.015625 40.375 \nQ 26.375 40.375 22.484375 35.828125 \nQ 18.609375 31.296875 18.609375 23.390625 \nQ 18.609375 15.53125 22.484375 10.953125 \nQ 26.375 6.390625 33.015625 6.390625 \nQ 39.65625 6.390625 43.53125 10.953125 \nQ 47.40625 15.53125 47.40625 23.390625 \nQ 47.40625 31.296875 43.53125 35.828125 \nQ 39.65625 40.375 33.015625 40.375 \nz\nM 52.59375 71.296875 \nL 52.59375 62.3125 \nQ 48.875 64.0625 45.09375 64.984375 \nQ 41.3125 65.921875 37.59375 65.921875 \nQ 27.828125 65.921875 22.671875 59.328125 \nQ 17.53125 52.734375 16.796875 39.40625 \nQ 19.671875 43.65625 24.015625 45.921875 \nQ 28.375 48.1875 33.59375 48.1875 \nQ 44.578125 48.1875 50.953125 41.515625 \nQ 57.328125 34.859375 57.328125 23.390625 \nQ 57.328125 12.15625 50.6875 5.359375 \nQ 44.046875 -1.421875 33.015625 -1.421875 \nQ 20.359375 -1.421875 13.671875 8.265625 \nQ 6.984375 17.96875 6.984375 36.375 \nQ 6.984375 53.65625 15.1875 63.9375 \nQ 23.390625 74.21875 37.203125 74.21875 \nQ 40.921875 74.21875 44.703125 73.484375 \nQ 48.484375 72.75 52.59375 71.296875 \nz\n\" id=\"DejaVuSans-54\"/>\n       </defs>\n       <use xlink:href=\"#DejaVuSans-54\"/>\n      </g>\n     </g>\n    </g>\n    <g id=\"xtick_8\">\n     <g id=\"line2d_8\">\n      <g>\n       <use style=\"stroke:#000000;stroke-width:0.8;\" x=\"201.549489\" xlink:href=\"#m8aa7b80caa\" y=\"224.64\"/>\n      </g>\n     </g>\n     <g id=\"text_8\">\n      <!-- 7 -->\n      <g transform=\"translate(198.368239 239.238437)scale(0.1 -0.1)\">\n       <defs>\n        <path d=\"M 8.203125 72.90625 \nL 55.078125 72.90625 \nL 55.078125 68.703125 \nL 28.609375 0 \nL 18.3125 0 \nL 43.21875 64.59375 \nL 8.203125 64.59375 \nz\n\" id=\"DejaVuSans-55\"/>\n       </defs>\n       <use xlink:href=\"#DejaVuSans-55\"/>\n      </g>\n     </g>\n    </g>\n    <g id=\"xtick_9\">\n     <g id=\"line2d_9\">\n      <g>\n       <use style=\"stroke:#000000;stroke-width:0.8;\" x=\"220.813011\" xlink:href=\"#m8aa7b80caa\" y=\"224.64\"/>\n      </g>\n     </g>\n     <g id=\"text_9\">\n      <!-- 8 -->\n      <g transform=\"translate(217.631761 239.238437)scale(0.1 -0.1)\">\n       <defs>\n        <path d=\"M 31.78125 34.625 \nQ 24.75 34.625 20.71875 30.859375 \nQ 16.703125 27.09375 16.703125 20.515625 \nQ 16.703125 13.921875 20.71875 10.15625 \nQ 24.75 6.390625 31.78125 6.390625 \nQ 38.8125 6.390625 42.859375 10.171875 \nQ 46.921875 13.96875 46.921875 20.515625 \nQ 46.921875 27.09375 42.890625 30.859375 \nQ 38.875 34.625 31.78125 34.625 \nz\nM 21.921875 38.8125 \nQ 15.578125 40.375 12.03125 44.71875 \nQ 8.5 49.078125 8.5 55.328125 \nQ 8.5 64.0625 14.71875 69.140625 \nQ 20.953125 74.21875 31.78125 74.21875 \nQ 42.671875 74.21875 48.875 69.140625 \nQ 55.078125 64.0625 55.078125 55.328125 \nQ 55.078125 49.078125 51.53125 44.71875 \nQ 48 40.375 41.703125 38.8125 \nQ 48.828125 37.15625 52.796875 32.3125 \nQ 56.78125 27.484375 56.78125 20.515625 \nQ 56.78125 9.90625 50.3125 4.234375 \nQ 43.84375 -1.421875 31.78125 -1.421875 \nQ 19.734375 -1.421875 13.25 4.234375 \nQ 6.78125 9.90625 6.78125 20.515625 \nQ 6.78125 27.484375 10.78125 32.3125 \nQ 14.796875 37.15625 21.921875 38.8125 \nz\nM 18.3125 54.390625 \nQ 18.3125 48.734375 21.84375 45.5625 \nQ 25.390625 42.390625 31.78125 42.390625 \nQ 38.140625 42.390625 41.71875 45.5625 \nQ 45.3125 48.734375 45.3125 54.390625 \nQ 45.3125 60.0625 41.71875 63.234375 \nQ 38.140625 66.40625 31.78125 66.40625 \nQ 25.390625 66.40625 21.84375 63.234375 \nQ 18.3125 60.0625 18.3125 54.390625 \nz\n\" id=\"DejaVuSans-56\"/>\n       </defs>\n       <use xlink:href=\"#DejaVuSans-56\"/>\n      </g>\n     </g>\n    </g>\n    <g id=\"xtick_10\">\n     <g id=\"line2d_10\">\n      <g>\n       <use style=\"stroke:#000000;stroke-width:0.8;\" x=\"240.076532\" xlink:href=\"#m8aa7b80caa\" y=\"224.64\"/>\n      </g>\n     </g>\n     <g id=\"text_10\">\n      <!-- 9 -->\n      <g transform=\"translate(236.895282 239.238437)scale(0.1 -0.1)\">\n       <defs>\n        <path d=\"M 10.984375 1.515625 \nL 10.984375 10.5 \nQ 14.703125 8.734375 18.5 7.8125 \nQ 22.3125 6.890625 25.984375 6.890625 \nQ 35.75 6.890625 40.890625 13.453125 \nQ 46.046875 20.015625 46.78125 33.40625 \nQ 43.953125 29.203125 39.59375 26.953125 \nQ 35.25 24.703125 29.984375 24.703125 \nQ 19.046875 24.703125 12.671875 31.3125 \nQ 6.296875 37.9375 6.296875 49.421875 \nQ 6.296875 60.640625 12.9375 67.421875 \nQ 19.578125 74.21875 30.609375 74.21875 \nQ 43.265625 74.21875 49.921875 64.515625 \nQ 56.59375 54.828125 56.59375 36.375 \nQ 56.59375 19.140625 48.40625 8.859375 \nQ 40.234375 -1.421875 26.421875 -1.421875 \nQ 22.703125 -1.421875 18.890625 -0.6875 \nQ 15.09375 0.046875 10.984375 1.515625 \nz\nM 30.609375 32.421875 \nQ 37.25 32.421875 41.125 36.953125 \nQ 45.015625 41.5 45.015625 49.421875 \nQ 45.015625 57.28125 41.125 61.84375 \nQ 37.25 66.40625 30.609375 66.40625 \nQ 23.96875 66.40625 20.09375 61.84375 \nQ 16.21875 57.28125 16.21875 49.421875 \nQ 16.21875 41.5 20.09375 36.953125 \nQ 23.96875 32.421875 30.609375 32.421875 \nz\n\" id=\"DejaVuSans-57\"/>\n       </defs>\n       <use xlink:href=\"#DejaVuSans-57\"/>\n      </g>\n     </g>\n    </g>\n    <g id=\"xtick_11\">\n     <g id=\"line2d_11\">\n      <g>\n       <use style=\"stroke:#000000;stroke-width:0.8;\" x=\"259.340053\" xlink:href=\"#m8aa7b80caa\" y=\"224.64\"/>\n      </g>\n     </g>\n     <g id=\"text_11\">\n      <!-- 10 -->\n      <g transform=\"translate(252.977553 239.238437)scale(0.1 -0.1)\">\n       <use xlink:href=\"#DejaVuSans-49\"/>\n       <use x=\"63.623047\" xlink:href=\"#DejaVuSans-48\"/>\n      </g>\n     </g>\n    </g>\n    <g id=\"xtick_12\">\n     <g id=\"line2d_12\">\n      <g>\n       <use style=\"stroke:#000000;stroke-width:0.8;\" x=\"278.603575\" xlink:href=\"#m8aa7b80caa\" y=\"224.64\"/>\n      </g>\n     </g>\n     <g id=\"text_12\">\n      <!-- 11 -->\n      <g transform=\"translate(272.241075 239.238437)scale(0.1 -0.1)\">\n       <use xlink:href=\"#DejaVuSans-49\"/>\n       <use x=\"63.623047\" xlink:href=\"#DejaVuSans-49\"/>\n      </g>\n     </g>\n    </g>\n    <g id=\"xtick_13\">\n     <g id=\"line2d_13\">\n      <g>\n       <use style=\"stroke:#000000;stroke-width:0.8;\" x=\"297.867096\" xlink:href=\"#m8aa7b80caa\" y=\"224.64\"/>\n      </g>\n     </g>\n     <g id=\"text_13\">\n      <!-- 12 -->\n      <g transform=\"translate(291.504596 239.238437)scale(0.1 -0.1)\">\n       <use xlink:href=\"#DejaVuSans-49\"/>\n       <use x=\"63.623047\" xlink:href=\"#DejaVuSans-50\"/>\n      </g>\n     </g>\n    </g>\n    <g id=\"xtick_14\">\n     <g id=\"line2d_14\">\n      <g>\n       <use style=\"stroke:#000000;stroke-width:0.8;\" x=\"317.130617\" xlink:href=\"#m8aa7b80caa\" y=\"224.64\"/>\n      </g>\n     </g>\n     <g id=\"text_14\">\n      <!-- 13 -->\n      <g transform=\"translate(310.768117 239.238437)scale(0.1 -0.1)\">\n       <use xlink:href=\"#DejaVuSans-49\"/>\n       <use x=\"63.623047\" xlink:href=\"#DejaVuSans-51\"/>\n      </g>\n     </g>\n    </g>\n    <g id=\"xtick_15\">\n     <g id=\"line2d_15\">\n      <g>\n       <use style=\"stroke:#000000;stroke-width:0.8;\" x=\"336.394138\" xlink:href=\"#m8aa7b80caa\" y=\"224.64\"/>\n      </g>\n     </g>\n     <g id=\"text_15\">\n      <!-- 14 -->\n      <g transform=\"translate(330.031638 239.238437)scale(0.1 -0.1)\">\n       <use xlink:href=\"#DejaVuSans-49\"/>\n       <use x=\"63.623047\" xlink:href=\"#DejaVuSans-52\"/>\n      </g>\n     </g>\n    </g>\n    <g id=\"xtick_16\">\n     <g id=\"line2d_16\">\n      <g>\n       <use style=\"stroke:#000000;stroke-width:0.8;\" x=\"355.65766\" xlink:href=\"#m8aa7b80caa\" y=\"224.64\"/>\n      </g>\n     </g>\n     <g id=\"text_16\">\n      <!-- 15 -->\n      <g transform=\"translate(349.29516 239.238437)scale(0.1 -0.1)\">\n       <use xlink:href=\"#DejaVuSans-49\"/>\n       <use x=\"63.623047\" xlink:href=\"#DejaVuSans-53\"/>\n      </g>\n     </g>\n    </g>\n    <g id=\"text_17\">\n     <!-- PCA feature -->\n     <g transform=\"translate(181.616406 252.916562)scale(0.1 -0.1)\">\n      <defs>\n       <path d=\"M 19.671875 64.796875 \nL 19.671875 37.40625 \nL 32.078125 37.40625 \nQ 38.96875 37.40625 42.71875 40.96875 \nQ 46.484375 44.53125 46.484375 51.125 \nQ 46.484375 57.671875 42.71875 61.234375 \nQ 38.96875 64.796875 32.078125 64.796875 \nz\nM 9.8125 72.90625 \nL 32.078125 72.90625 \nQ 44.34375 72.90625 50.609375 67.359375 \nQ 56.890625 61.8125 56.890625 51.125 \nQ 56.890625 40.328125 50.609375 34.8125 \nQ 44.34375 29.296875 32.078125 29.296875 \nL 19.671875 29.296875 \nL 19.671875 0 \nL 9.8125 0 \nz\n\" id=\"DejaVuSans-80\"/>\n       <path d=\"M 64.40625 67.28125 \nL 64.40625 56.890625 \nQ 59.421875 61.53125 53.78125 63.8125 \nQ 48.140625 66.109375 41.796875 66.109375 \nQ 29.296875 66.109375 22.65625 58.46875 \nQ 16.015625 50.828125 16.015625 36.375 \nQ 16.015625 21.96875 22.65625 14.328125 \nQ 29.296875 6.6875 41.796875 6.6875 \nQ 48.140625 6.6875 53.78125 8.984375 \nQ 59.421875 11.28125 64.40625 15.921875 \nL 64.40625 5.609375 \nQ 59.234375 2.09375 53.4375 0.328125 \nQ 47.65625 -1.421875 41.21875 -1.421875 \nQ 24.65625 -1.421875 15.125 8.703125 \nQ 5.609375 18.84375 5.609375 36.375 \nQ 5.609375 53.953125 15.125 64.078125 \nQ 24.65625 74.21875 41.21875 74.21875 \nQ 47.75 74.21875 53.53125 72.484375 \nQ 59.328125 70.75 64.40625 67.28125 \nz\n\" id=\"DejaVuSans-67\"/>\n       <path d=\"M 34.1875 63.1875 \nL 20.796875 26.90625 \nL 47.609375 26.90625 \nz\nM 28.609375 72.90625 \nL 39.796875 72.90625 \nL 67.578125 0 \nL 57.328125 0 \nL 50.6875 18.703125 \nL 17.828125 18.703125 \nL 11.1875 0 \nL 0.78125 0 \nz\n\" id=\"DejaVuSans-65\"/>\n       <path id=\"DejaVuSans-160\"/>\n       <path d=\"M 37.109375 75.984375 \nL 37.109375 68.5 \nL 28.515625 68.5 \nQ 23.6875 68.5 21.796875 66.546875 \nQ 19.921875 64.59375 19.921875 59.515625 \nL 19.921875 54.6875 \nL 34.71875 54.6875 \nL 34.71875 47.703125 \nL 19.921875 47.703125 \nL 19.921875 0 \nL 10.890625 0 \nL 10.890625 47.703125 \nL 2.296875 47.703125 \nL 2.296875 54.6875 \nL 10.890625 54.6875 \nL 10.890625 58.5 \nQ 10.890625 67.625 15.140625 71.796875 \nQ 19.390625 75.984375 28.609375 75.984375 \nz\n\" id=\"DejaVuSans-102\"/>\n       <path d=\"M 56.203125 29.59375 \nL 56.203125 25.203125 \nL 14.890625 25.203125 \nQ 15.484375 15.921875 20.484375 11.0625 \nQ 25.484375 6.203125 34.421875 6.203125 \nQ 39.59375 6.203125 44.453125 7.46875 \nQ 49.3125 8.734375 54.109375 11.28125 \nL 54.109375 2.78125 \nQ 49.265625 0.734375 44.1875 -0.34375 \nQ 39.109375 -1.421875 33.890625 -1.421875 \nQ 20.796875 -1.421875 13.15625 6.1875 \nQ 5.515625 13.8125 5.515625 26.8125 \nQ 5.515625 40.234375 12.765625 48.109375 \nQ 20.015625 56 32.328125 56 \nQ 43.359375 56 49.78125 48.890625 \nQ 56.203125 41.796875 56.203125 29.59375 \nz\nM 47.21875 32.234375 \nQ 47.125 39.59375 43.09375 43.984375 \nQ 39.0625 48.390625 32.421875 48.390625 \nQ 24.90625 48.390625 20.390625 44.140625 \nQ 15.875 39.890625 15.1875 32.171875 \nz\n\" id=\"DejaVuSans-101\"/>\n       <path d=\"M 34.28125 27.484375 \nQ 23.390625 27.484375 19.1875 25 \nQ 14.984375 22.515625 14.984375 16.5 \nQ 14.984375 11.71875 18.140625 8.90625 \nQ 21.296875 6.109375 26.703125 6.109375 \nQ 34.1875 6.109375 38.703125 11.40625 \nQ 43.21875 16.703125 43.21875 25.484375 \nL 43.21875 27.484375 \nz\nM 52.203125 31.203125 \nL 52.203125 0 \nL 43.21875 0 \nL 43.21875 8.296875 \nQ 40.140625 3.328125 35.546875 0.953125 \nQ 30.953125 -1.421875 24.3125 -1.421875 \nQ 15.921875 -1.421875 10.953125 3.296875 \nQ 6 8.015625 6 15.921875 \nQ 6 25.140625 12.171875 29.828125 \nQ 18.359375 34.515625 30.609375 34.515625 \nL 43.21875 34.515625 \nL 43.21875 35.40625 \nQ 43.21875 41.609375 39.140625 45 \nQ 35.0625 48.390625 27.6875 48.390625 \nQ 23 48.390625 18.546875 47.265625 \nQ 14.109375 46.140625 10.015625 43.890625 \nL 10.015625 52.203125 \nQ 14.9375 54.109375 19.578125 55.046875 \nQ 24.21875 56 28.609375 56 \nQ 40.484375 56 46.34375 49.84375 \nQ 52.203125 43.703125 52.203125 31.203125 \nz\n\" id=\"DejaVuSans-97\"/>\n       <path d=\"M 18.3125 70.21875 \nL 18.3125 54.6875 \nL 36.8125 54.6875 \nL 36.8125 47.703125 \nL 18.3125 47.703125 \nL 18.3125 18.015625 \nQ 18.3125 11.328125 20.140625 9.421875 \nQ 21.96875 7.515625 27.59375 7.515625 \nL 36.8125 7.515625 \nL 36.8125 0 \nL 27.59375 0 \nQ 17.1875 0 13.234375 3.875 \nQ 9.28125 7.765625 9.28125 18.015625 \nL 9.28125 47.703125 \nL 2.6875 47.703125 \nL 2.6875 54.6875 \nL 9.28125 54.6875 \nL 9.28125 70.21875 \nz\n\" id=\"DejaVuSans-116\"/>\n       <path d=\"M 8.5 21.578125 \nL 8.5 54.6875 \nL 17.484375 54.6875 \nL 17.484375 21.921875 \nQ 17.484375 14.15625 20.5 10.265625 \nQ 23.53125 6.390625 29.59375 6.390625 \nQ 36.859375 6.390625 41.078125 11.03125 \nQ 45.3125 15.671875 45.3125 23.6875 \nL 45.3125 54.6875 \nL 54.296875 54.6875 \nL 54.296875 0 \nL 45.3125 0 \nL 45.3125 8.40625 \nQ 42.046875 3.421875 37.71875 1 \nQ 33.40625 -1.421875 27.6875 -1.421875 \nQ 18.265625 -1.421875 13.375 4.4375 \nQ 8.5 10.296875 8.5 21.578125 \nz\nM 31.109375 56 \nz\n\" id=\"DejaVuSans-117\"/>\n       <path d=\"M 41.109375 46.296875 \nQ 39.59375 47.171875 37.8125 47.578125 \nQ 36.03125 48 33.890625 48 \nQ 26.265625 48 22.1875 43.046875 \nQ 18.109375 38.09375 18.109375 28.8125 \nL 18.109375 0 \nL 9.078125 0 \nL 9.078125 54.6875 \nL 18.109375 54.6875 \nL 18.109375 46.1875 \nQ 20.953125 51.171875 25.484375 53.578125 \nQ 30.03125 56 36.53125 56 \nQ 37.453125 56 38.578125 55.875 \nQ 39.703125 55.765625 41.0625 55.515625 \nz\n\" id=\"DejaVuSans-114\"/>\n      </defs>\n      <use xlink:href=\"#DejaVuSans-80\"/>\n      <use x=\"60.302734\" xlink:href=\"#DejaVuSans-67\"/>\n      <use x=\"130.126953\" xlink:href=\"#DejaVuSans-65\"/>\n      <use x=\"198.535156\" xlink:href=\"#DejaVuSans-160\"/>\n      <use x=\"230.322266\" xlink:href=\"#DejaVuSans-102\"/>\n      <use x=\"265.527344\" xlink:href=\"#DejaVuSans-101\"/>\n      <use x=\"327.050781\" xlink:href=\"#DejaVuSans-97\"/>\n      <use x=\"388.330078\" xlink:href=\"#DejaVuSans-116\"/>\n      <use x=\"427.539062\" xlink:href=\"#DejaVuSans-117\"/>\n      <use x=\"490.917969\" xlink:href=\"#DejaVuSans-114\"/>\n      <use x=\"529.78125\" xlink:href=\"#DejaVuSans-101\"/>\n     </g>\n    </g>\n   </g>\n   <g id=\"matplotlib.axis_2\">\n    <g id=\"ytick_1\">\n     <g id=\"line2d_17\">\n      <defs>\n       <path d=\"M 0 0 \nL -3.5 0 \n\" id=\"mf53f7a0983\" style=\"stroke:#000000;stroke-width:0.8;\"/>\n      </defs>\n      <g>\n       <use style=\"stroke:#000000;stroke-width:0.8;\" x=\"43.78125\" xlink:href=\"#mf53f7a0983\" y=\"224.64\"/>\n      </g>\n     </g>\n     <g id=\"text_18\">\n      <!-- 0.0 -->\n      <g transform=\"translate(20.878125 228.439219)scale(0.1 -0.1)\">\n       <defs>\n        <path d=\"M 10.6875 12.40625 \nL 21 12.40625 \nL 21 0 \nL 10.6875 0 \nz\n\" id=\"DejaVuSans-46\"/>\n       </defs>\n       <use xlink:href=\"#DejaVuSans-48\"/>\n       <use x=\"63.623047\" xlink:href=\"#DejaVuSans-46\"/>\n       <use x=\"95.410156\" xlink:href=\"#DejaVuSans-48\"/>\n      </g>\n     </g>\n    </g>\n    <g id=\"ytick_2\">\n     <g id=\"line2d_18\">\n      <g>\n       <use style=\"stroke:#000000;stroke-width:0.8;\" x=\"43.78125\" xlink:href=\"#mf53f7a0983\" y=\"196.944998\"/>\n      </g>\n     </g>\n     <g id=\"text_19\">\n      <!-- 0.5 -->\n      <g transform=\"translate(20.878125 200.744217)scale(0.1 -0.1)\">\n       <use xlink:href=\"#DejaVuSans-48\"/>\n       <use x=\"63.623047\" xlink:href=\"#DejaVuSans-46\"/>\n       <use x=\"95.410156\" xlink:href=\"#DejaVuSans-53\"/>\n      </g>\n     </g>\n    </g>\n    <g id=\"ytick_3\">\n     <g id=\"line2d_19\">\n      <g>\n       <use style=\"stroke:#000000;stroke-width:0.8;\" x=\"43.78125\" xlink:href=\"#mf53f7a0983\" y=\"169.249996\"/>\n      </g>\n     </g>\n     <g id=\"text_20\">\n      <!-- 1.0 -->\n      <g transform=\"translate(20.878125 173.049214)scale(0.1 -0.1)\">\n       <use xlink:href=\"#DejaVuSans-49\"/>\n       <use x=\"63.623047\" xlink:href=\"#DejaVuSans-46\"/>\n       <use x=\"95.410156\" xlink:href=\"#DejaVuSans-48\"/>\n      </g>\n     </g>\n    </g>\n    <g id=\"ytick_4\">\n     <g id=\"line2d_20\">\n      <g>\n       <use style=\"stroke:#000000;stroke-width:0.8;\" x=\"43.78125\" xlink:href=\"#mf53f7a0983\" y=\"141.554994\"/>\n      </g>\n     </g>\n     <g id=\"text_21\">\n      <!-- 1.5 -->\n      <g transform=\"translate(20.878125 145.354212)scale(0.1 -0.1)\">\n       <use xlink:href=\"#DejaVuSans-49\"/>\n       <use x=\"63.623047\" xlink:href=\"#DejaVuSans-46\"/>\n       <use x=\"95.410156\" xlink:href=\"#DejaVuSans-53\"/>\n      </g>\n     </g>\n    </g>\n    <g id=\"ytick_5\">\n     <g id=\"line2d_21\">\n      <g>\n       <use style=\"stroke:#000000;stroke-width:0.8;\" x=\"43.78125\" xlink:href=\"#mf53f7a0983\" y=\"113.859991\"/>\n      </g>\n     </g>\n     <g id=\"text_22\">\n      <!-- 2.0 -->\n      <g transform=\"translate(20.878125 117.65921)scale(0.1 -0.1)\">\n       <use xlink:href=\"#DejaVuSans-50\"/>\n       <use x=\"63.623047\" xlink:href=\"#DejaVuSans-46\"/>\n       <use x=\"95.410156\" xlink:href=\"#DejaVuSans-48\"/>\n      </g>\n     </g>\n    </g>\n    <g id=\"ytick_6\">\n     <g id=\"line2d_22\">\n      <g>\n       <use style=\"stroke:#000000;stroke-width:0.8;\" x=\"43.78125\" xlink:href=\"#mf53f7a0983\" y=\"86.164989\"/>\n      </g>\n     </g>\n     <g id=\"text_23\">\n      <!-- 2.5 -->\n      <g transform=\"translate(20.878125 89.964208)scale(0.1 -0.1)\">\n       <use xlink:href=\"#DejaVuSans-50\"/>\n       <use x=\"63.623047\" xlink:href=\"#DejaVuSans-46\"/>\n       <use x=\"95.410156\" xlink:href=\"#DejaVuSans-53\"/>\n      </g>\n     </g>\n    </g>\n    <g id=\"ytick_7\">\n     <g id=\"line2d_23\">\n      <g>\n       <use style=\"stroke:#000000;stroke-width:0.8;\" x=\"43.78125\" xlink:href=\"#mf53f7a0983\" y=\"58.469987\"/>\n      </g>\n     </g>\n     <g id=\"text_24\">\n      <!-- 3.0 -->\n      <g transform=\"translate(20.878125 62.269206)scale(0.1 -0.1)\">\n       <use xlink:href=\"#DejaVuSans-51\"/>\n       <use x=\"63.623047\" xlink:href=\"#DejaVuSans-46\"/>\n       <use x=\"95.410156\" xlink:href=\"#DejaVuSans-48\"/>\n      </g>\n     </g>\n    </g>\n    <g id=\"ytick_8\">\n     <g id=\"line2d_24\">\n      <g>\n       <use style=\"stroke:#000000;stroke-width:0.8;\" x=\"43.78125\" xlink:href=\"#mf53f7a0983\" y=\"30.774985\"/>\n      </g>\n     </g>\n     <g id=\"text_25\">\n      <!-- 3.5 -->\n      <g transform=\"translate(20.878125 34.574204)scale(0.1 -0.1)\">\n       <use xlink:href=\"#DejaVuSans-51\"/>\n       <use x=\"63.623047\" xlink:href=\"#DejaVuSans-46\"/>\n       <use x=\"95.410156\" xlink:href=\"#DejaVuSans-53\"/>\n      </g>\n     </g>\n    </g>\n    <g id=\"text_26\">\n     <!-- variance -->\n     <g transform=\"translate(14.798438 137.446562)rotate(-90)scale(0.1 -0.1)\">\n      <defs>\n       <path d=\"M 2.984375 54.6875 \nL 12.5 54.6875 \nL 29.59375 8.796875 \nL 46.6875 54.6875 \nL 56.203125 54.6875 \nL 35.6875 0 \nL 23.484375 0 \nz\n\" id=\"DejaVuSans-118\"/>\n       <path d=\"M 9.421875 54.6875 \nL 18.40625 54.6875 \nL 18.40625 0 \nL 9.421875 0 \nz\nM 9.421875 75.984375 \nL 18.40625 75.984375 \nL 18.40625 64.59375 \nL 9.421875 64.59375 \nz\n\" id=\"DejaVuSans-105\"/>\n       <path d=\"M 54.890625 33.015625 \nL 54.890625 0 \nL 45.90625 0 \nL 45.90625 32.71875 \nQ 45.90625 40.484375 42.875 44.328125 \nQ 39.84375 48.1875 33.796875 48.1875 \nQ 26.515625 48.1875 22.3125 43.546875 \nQ 18.109375 38.921875 18.109375 30.90625 \nL 18.109375 0 \nL 9.078125 0 \nL 9.078125 54.6875 \nL 18.109375 54.6875 \nL 18.109375 46.1875 \nQ 21.34375 51.125 25.703125 53.5625 \nQ 30.078125 56 35.796875 56 \nQ 45.21875 56 50.046875 50.171875 \nQ 54.890625 44.34375 54.890625 33.015625 \nz\n\" id=\"DejaVuSans-110\"/>\n       <path d=\"M 48.78125 52.59375 \nL 48.78125 44.1875 \nQ 44.96875 46.296875 41.140625 47.34375 \nQ 37.3125 48.390625 33.40625 48.390625 \nQ 24.65625 48.390625 19.8125 42.84375 \nQ 14.984375 37.3125 14.984375 27.296875 \nQ 14.984375 17.28125 19.8125 11.734375 \nQ 24.65625 6.203125 33.40625 6.203125 \nQ 37.3125 6.203125 41.140625 7.25 \nQ 44.96875 8.296875 48.78125 10.40625 \nL 48.78125 2.09375 \nQ 45.015625 0.34375 40.984375 -0.53125 \nQ 36.96875 -1.421875 32.421875 -1.421875 \nQ 20.0625 -1.421875 12.78125 6.34375 \nQ 5.515625 14.109375 5.515625 27.296875 \nQ 5.515625 40.671875 12.859375 48.328125 \nQ 20.21875 56 33.015625 56 \nQ 37.15625 56 41.109375 55.140625 \nQ 45.0625 54.296875 48.78125 52.59375 \nz\n\" id=\"DejaVuSans-99\"/>\n      </defs>\n      <use xlink:href=\"#DejaVuSans-118\"/>\n      <use x=\"59.179688\" xlink:href=\"#DejaVuSans-97\"/>\n      <use x=\"120.458984\" xlink:href=\"#DejaVuSans-114\"/>\n      <use x=\"161.572266\" xlink:href=\"#DejaVuSans-105\"/>\n      <use x=\"189.355469\" xlink:href=\"#DejaVuSans-97\"/>\n      <use x=\"250.634766\" xlink:href=\"#DejaVuSans-110\"/>\n      <use x=\"314.013672\" xlink:href=\"#DejaVuSans-99\"/>\n      <use x=\"368.994141\" xlink:href=\"#DejaVuSans-101\"/>\n     </g>\n    </g>\n   </g>\n   <g id=\"patch_19\">\n    <path d=\"M 43.78125 224.64 \nL 43.78125 7.2 \n\" style=\"fill:none;stroke:#000000;stroke-linecap:square;stroke-linejoin:miter;stroke-width:0.8;\"/>\n   </g>\n   <g id=\"patch_20\">\n    <path d=\"M 378.58125 224.64 \nL 378.58125 7.2 \n\" style=\"fill:none;stroke:#000000;stroke-linecap:square;stroke-linejoin:miter;stroke-width:0.8;\"/>\n   </g>\n   <g id=\"patch_21\">\n    <path d=\"M 43.78125 224.64 \nL 378.58125 224.64 \n\" style=\"fill:none;stroke:#000000;stroke-linecap:square;stroke-linejoin:miter;stroke-width:0.8;\"/>\n   </g>\n   <g id=\"patch_22\">\n    <path d=\"M 43.78125 7.2 \nL 378.58125 7.2 \n\" style=\"fill:none;stroke:#000000;stroke-linecap:square;stroke-linejoin:miter;stroke-width:0.8;\"/>\n   </g>\n  </g>\n </g>\n <defs>\n  <clipPath id=\"pfdb075ebeb\">\n   <rect height=\"217.44\" width=\"334.8\" x=\"43.78125\" y=\"7.2\"/>\n  </clipPath>\n </defs>\n</svg>\n",
      "image/png": "[encoded data removed]"
     },
     "metadata": {
      "needs_background": "light"
     }
    }
   ],
   "source": [
    "X_pca = X\n",
    "Y_pca = y\n",
    "X_pca_train, X_pca_test, y_pca_train, y_pca_test = train_test_split(X_pca, Y_pca, test_size=0.3)\n",
    "\n",
    "# Create scaler: scaler\n",
    "scaler = StandardScaler()\n",
    "# Create a PCA instance: pca\n",
    "pca = PCA()\n",
    "\n",
    "# Create pipeline: pipeline\n",
    "pipeline = make_pipeline(scaler, pca)\n",
    "# Fit the pipeline to 'samples'\n",
    "pipeline.fit(X_pca)\n",
    "# Plot the explained variances\n",
    "features = range(pca.n_components_)\n",
    "plt.bar(features, pca.explained_variance_)\n",
    "plt.xlabel('PCA feature')\n",
    "plt.ylabel('variance')\n",
    "plt.xticks(features)\n",
    "plt.show()"
   ]
  },
  {
   "cell_type": "code",
   "execution_count": 15,
   "metadata": {},
   "outputs": [
    {
     "output_type": "execute_result",
     "data": {
      "text/plain": [
       "                  0           1          2          3          4          5\n",
       "0      -3516.933752  249.777040 -21.897195   3.277841  -9.305087  -6.050974\n",
       "1      -3995.512154   93.272510  -5.692053   1.349096 -11.289318  -6.590296\n",
       "2      -3687.612842   96.422578   0.287892   1.192869 -11.766462  -3.652687\n",
       "3      -3830.168165 -572.552112 -11.560195  18.023894  -8.158878  12.930256\n",
       "4      -1974.887804  313.699965  39.346642  -6.961259 -11.155028  -6.691971\n",
       "...             ...         ...        ...        ...        ...        ...\n",
       "430911 -3837.498052  -58.659006 -96.637747  -1.993381  13.290812   8.673774\n",
       "430912 -3705.886598   19.278582  -2.777331 -53.436233   8.284714   9.203516\n",
       "430913 -4114.496139 -808.924987 -46.318179  -5.806333  15.589805   1.717309\n",
       "430914 -2704.798479  753.837223  83.140893  10.039891  13.746426  -9.486934\n",
       "430915 -2572.453806  898.171396 -26.310882  -8.279843   9.013547  -3.120462\n",
       "\n",
       "[430916 rows x 6 columns]"
      ],
      "text/html": "<div>\n<style scoped>\n    .dataframe tbody tr th:only-of-type {\n        vertical-align: middle;\n    }\n\n    .dataframe tbody tr th {\n        vertical-align: top;\n    }\n\n    .dataframe thead th {\n        text-align: right;\n    }\n</style>\n<table border=\"1\" class=\"dataframe\">\n  <thead>\n    <tr style=\"text-align: right;\">\n      <th></th>\n      <th>0</th>\n      <th>1</th>\n      <th>2</th>\n      <th>3</th>\n      <th>4</th>\n      <th>5</th>\n    </tr>\n  </thead>\n  <tbody>\n    <tr>\n      <th>0</th>\n      <td>-3516.933752</td>\n      <td>249.777040</td>\n      <td>-21.897195</td>\n      <td>3.277841</td>\n      <td>-9.305087</td>\n      <td>-6.050974</td>\n    </tr>\n    <tr>\n      <th>1</th>\n      <td>-3995.512154</td>\n      <td>93.272510</td>\n      <td>-5.692053</td>\n      <td>1.349096</td>\n      <td>-11.289318</td>\n      <td>-6.590296</td>\n    </tr>\n    <tr>\n      <th>2</th>\n      <td>-3687.612842</td>\n      <td>96.422578</td>\n      <td>0.287892</td>\n      <td>1.192869</td>\n      <td>-11.766462</td>\n      <td>-3.652687</td>\n    </tr>\n    <tr>\n      <th>3</th>\n      <td>-3830.168165</td>\n      <td>-572.552112</td>\n      <td>-11.560195</td>\n      <td>18.023894</td>\n      <td>-8.158878</td>\n      <td>12.930256</td>\n    </tr>\n    <tr>\n      <th>4</th>\n      <td>-1974.887804</td>\n      <td>313.699965</td>\n      <td>39.346642</td>\n      <td>-6.961259</td>\n      <td>-11.155028</td>\n      <td>-6.691971</td>\n    </tr>\n    <tr>\n      <th>...</th>\n      <td>...</td>\n      <td>...</td>\n      <td>...</td>\n      <td>...</td>\n      <td>...</td>\n      <td>...</td>\n    </tr>\n    <tr>\n      <th>430911</th>\n      <td>-3837.498052</td>\n      <td>-58.659006</td>\n      <td>-96.637747</td>\n      <td>-1.993381</td>\n      <td>13.290812</td>\n      <td>8.673774</td>\n    </tr>\n    <tr>\n      <th>430912</th>\n      <td>-3705.886598</td>\n      <td>19.278582</td>\n      <td>-2.777331</td>\n      <td>-53.436233</td>\n      <td>8.284714</td>\n      <td>9.203516</td>\n    </tr>\n    <tr>\n      <th>430913</th>\n      <td>-4114.496139</td>\n      <td>-808.924987</td>\n      <td>-46.318179</td>\n      <td>-5.806333</td>\n      <td>15.589805</td>\n      <td>1.717309</td>\n    </tr>\n    <tr>\n      <th>430914</th>\n      <td>-2704.798479</td>\n      <td>753.837223</td>\n      <td>83.140893</td>\n      <td>10.039891</td>\n      <td>13.746426</td>\n      <td>-9.486934</td>\n    </tr>\n    <tr>\n      <th>430915</th>\n      <td>-2572.453806</td>\n      <td>898.171396</td>\n      <td>-26.310882</td>\n      <td>-8.279843</td>\n      <td>9.013547</td>\n      <td>-3.120462</td>\n    </tr>\n  </tbody>\n</table>\n<p>430916 rows × 6 columns</p>\n</div>"
     },
     "metadata": {},
     "execution_count": 15
    }
   ],
   "source": [
    "pca = PCA(n_components=6)\n",
    "X_pca_new= pd.DataFrame(pca.fit_transform(X_pca))\n",
    "X_pca_new"
   ]
  },
  {
   "source": [
    "import sweetviz as sv\n",
    "my_report = sv.analyze(data_Label)\n",
    "my_report.show_html()"
   ],
   "cell_type": "code",
   "metadata": {},
   "execution_count": 16,
   "outputs": [
    {
     "output_type": "stream",
     "name": "stderr",
     "text": [
      "Done! Use 'show' commands to display/save.   |██████████| [100%]   00:00 -> (00:00 left)\n",
      "Report SWEETVIZ_REPORT.html was generated! NOTEBOOK/COLAB USERS: the web browser MAY not pop up, regardless, the report IS saved in your notebook/colab files.\n"
     ]
    }
   ]
  },
  {
   "source": [
    "from collections import Counter\n",
    "print(Counter(data_Label['walls material']))"
   ],
   "cell_type": "code",
   "metadata": {},
   "execution_count": 17,
   "outputs": [
    {
     "output_type": "stream",
     "name": "stdout",
     "text": [
      "Counter({1: 220650, 3: 200705, 0: 5413, 4: 2571, 2: 1577})\n"
     ]
    }
   ]
  },
  {
   "source": [
    "\n",
    "from imblearn.over_sampling import RandomOverSampler  # 随机重复采样\n",
    "from imblearn.over_sampling import SMOTE  # 选取少数类样本插值采样\n",
    "X_smo = data_Label.drop(columns=['walls material'])\n",
    "y_smo = data_Label['walls material']\n",
    "smo = SMOTE(random_state=42)\n",
    "X_smo, y_smo = smo.fit_resample(X_smo, y_smo.astype('int'))\n",
    "\n",
    "print(Counter(y_smo))\n",
    "y_smo"
   ],
   "cell_type": "code",
   "metadata": {},
   "execution_count": 18,
   "outputs": [
    {
     "output_type": "stream",
     "name": "stdout",
     "text": [
      "Counter({1: 220650, 3: 220650, 0: 220650, 4: 220650, 2: 220650})\n"
     ]
    },
    {
     "output_type": "execute_result",
     "data": {
      "text/plain": [
       "0          1\n",
       "1          1\n",
       "2          1\n",
       "3          1\n",
       "4          1\n",
       "          ..\n",
       "1103245    4\n",
       "1103246    4\n",
       "1103247    4\n",
       "1103248    4\n",
       "1103249    4\n",
       "Name: walls material, Length: 1103250, dtype: int64"
      ]
     },
     "metadata": {},
     "execution_count": 18
    }
   ]
  },
  {
   "source": [
    "data = pd.concat([X_smo, y_smo],axis=1)\n",
    "data.head()"
   ],
   "cell_type": "code",
   "metadata": {},
   "execution_count": 19,
   "outputs": [
    {
     "output_type": "execute_result",
     "data": {
      "text/plain": [
       "    М1, t   М2, t  ΔМ, t  Т1, °C  Т2, °C  ΔТ, °C  Q, Gcal     area  \\\n",
       "0  120.51  120.83  -0.32   83.51   48.85   34.65     4.18  3358.40   \n",
       "1  123.61  124.93  -1.32   85.14   51.34   33.80     4.19  3153.50   \n",
       "2  129.96  129.04   0.93   85.63   51.78   33.85     4.41  3187.50   \n",
       "3  102.04   84.42  17.61   85.83   53.30   32.52     3.33  2509.35   \n",
       "4  169.23  172.24  -3.02   84.18   56.15   28.03     4.76  3574.70   \n",
       "\n",
       "   year of construction  area of building   temp,˚C  age of building  scheme  \\\n",
       "0                  1974           3610.40 -4.959921               41       0   \n",
       "1                  1975           3150.20 -4.959921               40       0   \n",
       "2                  1976           3456.20 -4.959921               39       0   \n",
       "3                  1967           3382.25 -4.959921               48       1   \n",
       "4                  1982           5138.10 -4.959921               33       0   \n",
       "\n",
       "   registered  floors  kmeans_class  walls material  \n",
       "0           1       4             1               1  \n",
       "1           1       4             1               1  \n",
       "2           1       4             1               1  \n",
       "3           1       4             4               1  \n",
       "4           1       8             5               1  "
      ],
      "text/html": "<div>\n<style scoped>\n    .dataframe tbody tr th:only-of-type {\n        vertical-align: middle;\n    }\n\n    .dataframe tbody tr th {\n        vertical-align: top;\n    }\n\n    .dataframe thead th {\n        text-align: right;\n    }\n</style>\n<table border=\"1\" class=\"dataframe\">\n  <thead>\n    <tr style=\"text-align: right;\">\n      <th></th>\n      <th>М1, t</th>\n      <th>М2, t</th>\n      <th>ΔМ, t</th>\n      <th>Т1, °C</th>\n      <th>Т2, °C</th>\n      <th>ΔТ, °C</th>\n      <th>Q, Gcal</th>\n      <th>area</th>\n      <th>year of construction</th>\n      <th>area of building</th>\n      <th>temp,˚C</th>\n      <th>age of building</th>\n      <th>scheme</th>\n      <th>registered</th>\n      <th>floors</th>\n      <th>kmeans_class</th>\n      <th>walls material</th>\n    </tr>\n  </thead>\n  <tbody>\n    <tr>\n      <th>0</th>\n      <td>120.51</td>\n      <td>120.83</td>\n      <td>-0.32</td>\n      <td>83.51</td>\n      <td>48.85</td>\n      <td>34.65</td>\n      <td>4.18</td>\n      <td>3358.40</td>\n      <td>1974</td>\n      <td>3610.40</td>\n      <td>-4.959921</td>\n      <td>41</td>\n      <td>0</td>\n      <td>1</td>\n      <td>4</td>\n      <td>1</td>\n      <td>1</td>\n    </tr>\n    <tr>\n      <th>1</th>\n      <td>123.61</td>\n      <td>124.93</td>\n      <td>-1.32</td>\n      <td>85.14</td>\n      <td>51.34</td>\n      <td>33.80</td>\n      <td>4.19</td>\n      <td>3153.50</td>\n      <td>1975</td>\n      <td>3150.20</td>\n      <td>-4.959921</td>\n      <td>40</td>\n      <td>0</td>\n      <td>1</td>\n      <td>4</td>\n      <td>1</td>\n      <td>1</td>\n    </tr>\n    <tr>\n      <th>2</th>\n      <td>129.96</td>\n      <td>129.04</td>\n      <td>0.93</td>\n      <td>85.63</td>\n      <td>51.78</td>\n      <td>33.85</td>\n      <td>4.41</td>\n      <td>3187.50</td>\n      <td>1976</td>\n      <td>3456.20</td>\n      <td>-4.959921</td>\n      <td>39</td>\n      <td>0</td>\n      <td>1</td>\n      <td>4</td>\n      <td>1</td>\n      <td>1</td>\n    </tr>\n    <tr>\n      <th>3</th>\n      <td>102.04</td>\n      <td>84.42</td>\n      <td>17.61</td>\n      <td>85.83</td>\n      <td>53.30</td>\n      <td>32.52</td>\n      <td>3.33</td>\n      <td>2509.35</td>\n      <td>1967</td>\n      <td>3382.25</td>\n      <td>-4.959921</td>\n      <td>48</td>\n      <td>1</td>\n      <td>1</td>\n      <td>4</td>\n      <td>4</td>\n      <td>1</td>\n    </tr>\n    <tr>\n      <th>4</th>\n      <td>169.23</td>\n      <td>172.24</td>\n      <td>-3.02</td>\n      <td>84.18</td>\n      <td>56.15</td>\n      <td>28.03</td>\n      <td>4.76</td>\n      <td>3574.70</td>\n      <td>1982</td>\n      <td>5138.10</td>\n      <td>-4.959921</td>\n      <td>33</td>\n      <td>0</td>\n      <td>1</td>\n      <td>8</td>\n      <td>5</td>\n      <td>1</td>\n    </tr>\n  </tbody>\n</table>\n</div>"
     },
     "metadata": {},
     "execution_count": 19
    }
   ]
  },
  {
   "source": [
    "import sweetviz as sv\n",
    "my_report = sv.analyze(data)\n",
    "my_report.show_html()"
   ],
   "cell_type": "code",
   "metadata": {},
   "execution_count": 20,
   "outputs": [
    {
     "output_type": "stream",
     "name": "stderr",
     "text": [
      "Done! Use 'show' commands to display/save.   |██████████| [100%]   00:01 -> (00:00 left)\n",
      "Report SWEETVIZ_REPORT.html was generated! NOTEBOOK/COLAB USERS: the web browser MAY not pop up, regardless, the report IS saved in your notebook/colab files.\n"
     ]
    }
   ]
  },
  {
   "source": [
    "X = data_Label.drop(columns=['М2, t', 'Q, Gcal', 'ΔМ, t', 'Т2, °C', 'ΔТ, °C', 'year of construction'])\n",
    "y = data_Label['Q, Gcal']\n",
    "X.head()"
   ],
   "cell_type": "code",
   "metadata": {},
   "execution_count": 21,
   "outputs": [
    {
     "output_type": "execute_result",
     "data": {
      "text/plain": [
       "    М1, t  Т1, °C     area  area of building   temp,˚C  age of building  \\\n",
       "0  120.51   83.51  3358.40           3610.40 -4.959921               41   \n",
       "1  123.61   85.14  3153.50           3150.20 -4.959921               40   \n",
       "2  129.96   85.63  3187.50           3456.20 -4.959921               39   \n",
       "3  102.04   85.83  2509.35           3382.25 -4.959921               48   \n",
       "4  169.23   84.18  3574.70           5138.10 -4.959921               33   \n",
       "\n",
       "   scheme  walls material  registered  floors  kmeans_class  \n",
       "0       0               1           1       4             1  \n",
       "1       0               1           1       4             1  \n",
       "2       0               1           1       4             1  \n",
       "3       1               1           1       4             4  \n",
       "4       0               1           1       8             5  "
      ],
      "text/html": "<div>\n<style scoped>\n    .dataframe tbody tr th:only-of-type {\n        vertical-align: middle;\n    }\n\n    .dataframe tbody tr th {\n        vertical-align: top;\n    }\n\n    .dataframe thead th {\n        text-align: right;\n    }\n</style>\n<table border=\"1\" class=\"dataframe\">\n  <thead>\n    <tr style=\"text-align: right;\">\n      <th></th>\n      <th>М1, t</th>\n      <th>Т1, °C</th>\n      <th>area</th>\n      <th>area of building</th>\n      <th>temp,˚C</th>\n      <th>age of building</th>\n      <th>scheme</th>\n      <th>walls material</th>\n      <th>registered</th>\n      <th>floors</th>\n      <th>kmeans_class</th>\n    </tr>\n  </thead>\n  <tbody>\n    <tr>\n      <th>0</th>\n      <td>120.51</td>\n      <td>83.51</td>\n      <td>3358.40</td>\n      <td>3610.40</td>\n      <td>-4.959921</td>\n      <td>41</td>\n      <td>0</td>\n      <td>1</td>\n      <td>1</td>\n      <td>4</td>\n      <td>1</td>\n    </tr>\n    <tr>\n      <th>1</th>\n      <td>123.61</td>\n      <td>85.14</td>\n      <td>3153.50</td>\n      <td>3150.20</td>\n      <td>-4.959921</td>\n      <td>40</td>\n      <td>0</td>\n      <td>1</td>\n      <td>1</td>\n      <td>4</td>\n      <td>1</td>\n    </tr>\n    <tr>\n      <th>2</th>\n      <td>129.96</td>\n      <td>85.63</td>\n      <td>3187.50</td>\n      <td>3456.20</td>\n      <td>-4.959921</td>\n      <td>39</td>\n      <td>0</td>\n      <td>1</td>\n      <td>1</td>\n      <td>4</td>\n      <td>1</td>\n    </tr>\n    <tr>\n      <th>3</th>\n      <td>102.04</td>\n      <td>85.83</td>\n      <td>2509.35</td>\n      <td>3382.25</td>\n      <td>-4.959921</td>\n      <td>48</td>\n      <td>1</td>\n      <td>1</td>\n      <td>1</td>\n      <td>4</td>\n      <td>4</td>\n    </tr>\n    <tr>\n      <th>4</th>\n      <td>169.23</td>\n      <td>84.18</td>\n      <td>3574.70</td>\n      <td>5138.10</td>\n      <td>-4.959921</td>\n      <td>33</td>\n      <td>0</td>\n      <td>1</td>\n      <td>1</td>\n      <td>8</td>\n      <td>5</td>\n    </tr>\n  </tbody>\n</table>\n</div>"
     },
     "metadata": {},
     "execution_count": 21
    }
   ]
  },
  {
   "source": [
    "X_train, X_test, y_train, y_test = train_test_split(X_pca_new, Y_pca, test_size=0.3, random_state=42)"
   ],
   "cell_type": "code",
   "metadata": {},
   "execution_count": 22,
   "outputs": []
  },
  {
   "source": [
    "import xgboost as xgb\n",
    "\n",
    "gbm_param_grid = {\n",
    "    'colsample_bytree': [0.5],\n",
    "    'n_estimators': [500],\n",
    "    'max_depth': [5]\n",
    "}\n",
    "\n",
    "gbm = xgb.XGBRegressor(objective ='reg:squarederror')\n",
    "\n",
    "grid_mse = GridSearchCV(estimator=gbm,param_grid=gbm_param_grid,scoring='neg_mean_squared_error',cv=2,verbose=1)\n",
    "\n",
    "# Fit grid_mse to the data\n",
    "grid_mse.fit(X_pca_new, Y_pca)\n",
    "grid_preds=grid_mse.predict(X_test)\n",
    "\n",
    "print(\"Best parameters found: \", grid_mse.best_params_)\n",
    "print(\"Lowest RMSE found: \", np.sqrt(np.abs(grid_mse.best_score_)))\n",
    "r2 = r2_score(y_test, grid_preds)\n",
    "print('R2: {:.3f}'.format(r2))"
   ],
   "cell_type": "code",
   "metadata": {},
   "execution_count": 23,
   "outputs": [
    {
     "output_type": "stream",
     "name": "stdout",
     "text": [
      "Fitting 2 folds for each of 1 candidates, totalling 2 fits\n",
      "Best parameters found:  {'colsample_bytree': 0.5, 'max_depth': 5, 'n_estimators': 500}\n",
      "Lowest RMSE found:  0.36100357689698565\n",
      "R2: 0.989\n"
     ]
    }
   ]
  },
  {
   "source": [
    "from matplotlib import pyplot\n",
    "\n",
    "eval_set = [(X_train, y_train), (X_test, y_test)]\n",
    "grid_mse.fit(X_train, y_train, eval_metric=[\"error\", \"logloss\"], eval_set=eval_set, verbose=True)\n",
    "# make predictions for test data\n",
    "y_pred = grid_mse.predict(X_test)\n",
    "predictions = [round(value) for value in y_pred]\n",
    "# evaluate predictions\n",
    "accuracy = r2_score(y_test, grid_preds)\n",
    "print(\"Accuracy: %.2f%%\" % accuracy)\n",
    "# retrieve performance metrics\n",
    "results = grid_mse.evals_result()\n",
    "epochs = len(results['validation_0']['error'])\n",
    "x_axis = range(0, epochs)\n",
    "\n",
    "# plot log loss\n",
    "fig1, ax = pyplot.subplots()\n",
    "ax.plot(x_axis, results['validation_0']['logloss'], label='Train')\n",
    "ax.plot(x_axis, results['validation_1']['logloss'], label='Test')\n",
    "ax.legend()\n",
    "pyplot.ylabel('Log Loss')\n",
    "pyplot.title('XGBoost Log Loss')\n",
    "pyplot.show()"
   ],
   "cell_type": "markdown",
   "metadata": {
    "tags": [
     "outputPrepend"
    ]
   }
  },
  {
   "source": [
    "from minisom import MiniSom\n",
    "import math\n",
    "X_som = data_Label[['ΔМ, t','ΔТ, °C','Q, Gcal']]\n",
    "X_train, X_test, y_train, y_test = train_test_split(X_som, y, test_size=0.3, random_state=42)\n",
    "N = X_train.shape[0]  #样本数量\n",
    "M = X_train.shape[1]  #维度/特征数量\n",
    "#设置超参数\n",
    "size = math.ceil(np.sqrt(5 * np.sqrt(N)))  # 经验公式：决定输出层尺寸\n",
    "print(\"训练样本个数:{}  测试样本个数:{}\".format(N,X_test.shape[0]))\n",
    "print(\"输出网格最佳边长为:\",size)\n",
    "max_iter = 200\n",
    "# Initialization and training\n",
    "som = MiniSom(size, size, M, sigma=3, learning_rate=0.5, neighborhood_function='bubble')\n",
    "som.random_weights_init(X_train)\n",
    "som.train_batch(X_train, max_iter, verbose=False)\n",
    "winmap = som.labels_map(X_train,y_train)"
   ],
   "cell_type": "markdown",
   "metadata": {}
  },
  {
   "cell_type": "code",
   "execution_count": 24,
   "metadata": {},
   "outputs": [
    {
     "output_type": "stream",
     "name": "stderr",
     "text": [
      "Using TensorFlow backend.\n"
     ]
    }
   ],
   "source": [
    "import pandas as pd\n",
    "import numpy as np\n",
    "import matplotlib.pyplot as plt \n",
    "from sklearn.preprocessing import MinMaxScaler\n",
    "from keras.layers import Dense,Dropout,LSTM,Bidirectional,Embedding\n",
    "#from keras.layers import Embedding\n",
    "from sklearn.metrics import r2_score\n",
    "from keras.models import  Sequential\n",
    "from sklearn.metrics import mean_squared_error,mean_absolute_error\n",
    "#from keras.datasets import imdb\n",
    "\n",
    "look_back=3   #步长（你需要跳的就是这个参数）\n",
    "percent=0.3    #测试集与训练集的比例\n",
    "#max_features=trainx.shape[1]"
   ]
  },
  {
   "cell_type": "code",
   "execution_count": 25,
   "metadata": {},
   "outputs": [],
   "source": [
    "#归一化\n",
    "scaler=MinMaxScaler()\n",
    "scaler_datax=scaler.fit_transform(X_train)\n",
    "scaler_datay=scaler.fit_transform(y_train.values.reshape(-1,1))\n",
    "\n",
    "scaler_trainx, scaler_testx, scaler_trainy, scaler_testy = train_test_split(scaler_datax, scaler_datay, test_size=percent, random_state=42)"
   ]
  },
  {
   "cell_type": "code",
   "execution_count": 26,
   "metadata": {},
   "outputs": [
    {
     "output_type": "stream",
     "name": "stdout",
     "text": [
      "(211145, 6, 3) (211145,) (90490, 6, 3) (90490,)\n"
     ]
    }
   ],
   "source": [
    "#初始化\n",
    "trainx=[]\n",
    "trainy=[]\n",
    "testx=[]\n",
    "testy=[]\n",
    "\n",
    "for i in range(scaler_trainx.shape[0] - look_back):\n",
    "    a = scaler_trainx[i:(i + look_back),:]    \n",
    "    a = a.transpose()  \n",
    "    trainx.append(a)\n",
    "    trainy.append(scaler_trainy[i + look_back, 0])   \n",
    "    \n",
    "for i in range(scaler_testx.shape[0] - look_back):\n",
    "    a =scaler_testx[i:(i + look_back),:]    \n",
    "    a = a.transpose()  \n",
    "    testx.append(a)\n",
    "    testy.append(scaler_testy[i + look_back, 0])   \n",
    "\n",
    "#将数据变成array格式作为最终的输入\n",
    "trainx=np.array(trainx)\n",
    "trainy=np.array(trainy)\n",
    "testx=np.array(testx)\n",
    "testy=np.array(testy)\n",
    "print(trainx.shape,trainy.shape,testx.shape,testy.shape)"
   ]
  },
  {
   "source": [
    "#搭建模型\n",
    "model=Sequential()\n",
    "#model.add(Embedding(max_features,128,input_length=trainx.shape[0]))\n",
    "#神经元个数50，可调\n",
    "model.add(Bidirectional(LSTM(100,input_shape=(trainx.shape[1],trainx.shape[2]))))\n",
    "model.add(Dropout(0.3))   #辍学率，可调\n",
    "model.add(Dense(1,activation='sigmoid'))   #sigmoid\n",
    "model.compile(optimizer='adam',loss='mean_squared_error')\n",
    "#可调迭代次数，batch_size\n",
    "model.fit(trainx,trainy,batch_size=16,epochs = 10,verbose=2)\n",
    "predict=model.predict(testx)"
   ],
   "cell_type": "code",
   "metadata": {},
   "execution_count": null,
   "outputs": []
  },
  {
   "source": [
    "#mape指标（可能用得上）\n",
    "def mape(test_y,predict_y):\n",
    "    return np.mean(np.abs(((predict_y-test_y)/test_y)))*100\n",
    "\n",
    "#反归一化\n",
    "predict=scaler.inverse_transform(predict)\n",
    "testy=scaler.inverse_transform(testy.reshape(-1,1))\n",
    "\n",
    "#可视化\n",
    "plt.figure(figsize=(13,8))  #大小，颜色都可调\n",
    "plt.plot(predict,c='red',label='predict')\n",
    "plt.plot(testy,c='brown',label='true')\n",
    "plt.legend();\n",
    "\n",
    "#指标衡量（MAE,RMSE,MAPE）\n",
    "print('r2: %.5f' %r2_score(predict,testy))\n",
    "mae = mean_absolute_error(predict,testy)\n",
    "rmse = np.sqrt(mean_squared_error(predict,testy))      \n",
    "print(' MAE : %.5f ' %(mae))\n",
    "print(' RMSE : %.5f ' %(rmse))\n",
    "print(' MAPE : %.6f ' %((mape(predict,testy))))"
   ],
   "cell_type": "code",
   "metadata": {},
   "execution_count": null,
   "outputs": []
  },
  {
   "cell_type": "code",
   "execution_count": null,
   "metadata": {},
   "outputs": [],
   "source": [
    "import tensorflow as tf\n",
    "import matplotlib.pyplot as plt\n",
    "from tensorflow.keras.layers import *\n",
    "from tensorflow.keras import *\n",
    "import os\n",
    "import seaborn as sns\n",
    "import gensim\n",
    "import sklearn\n",
    "from tensorflow.keras.callbacks import EarlyStopping, ModelCheckpoint\n",
    "from tensorflow.keras.layers import Dense, Input, Dropout, Bidirectional\n",
    "from sklearn.metrics import mean_absolute_error,mean_squared_error,r2_score\n",
    "from tensorflow.keras.layers import concatenate\n",
    "from tensorflow.keras.layers import Embedding\n",
    "from tensorflow.keras.layers import BatchNormalization\n",
    "from tensorflow.keras.models import Model\n",
    "from tensorflow.keras import backend as K\n",
    "from tensorflow.keras.preprocessing.sequence import pad_sequences\n",
    "from sklearn.model_selection import StratifiedKFold\n",
    "from gensim.models import word2vec, KeyedVectors\n",
    "from sklearn.utils import shuffle\n",
    "from tensorflow.keras.utils import to_categorical\n",
    "#import jieba\n",
    "import re\n",
    "from tensorflow.keras.callbacks import Callback\n",
    "from tensorflow.keras.models import load_model\n"
   ]
  },
  {
   "cell_type": "code",
   "execution_count": null,
   "metadata": {},
   "outputs": [],
   "source": [
    "def attention_3d_block(inputs):\n",
    "    input_dim = int(inputs.shape[2])\n",
    "    a = Permute((2, 1))(inputs)\n",
    "    a = Reshape((input_dim, trainx.shape[1]))(a) # this line is not useful. It's just to know which dimension is what.\n",
    "    a = Dense(trainx.shape[1], activation='softmax')(a)\n",
    "    a_probs = Permute((2, 1), name='attention_vec')(a)\n",
    "    output_attention_mul = Multiply()([inputs, a_probs])\n",
    "    return output_attention_mul\n",
    "\n",
    "# reduce_lr = ReduceLROnPlateau(monitor='val_loss', patience=10, mode='auto')\n",
    "# model.fit(train_x, train_y, batch_size=32, epochs=5, validation_split=0.1, callbacks=[reduce_lr])\n",
    "callbacks = [EarlyStopping(monitor='val_loss', verbose=1, patience=50),\n",
    "\t\t\t ModelCheckpoint(\"model.hdf5\", monitor='val_loss',\n",
    "\t\t\t\t\t\t\t mode='min', verbose=0, save_best_only=True)]   \n"
   ]
  },
  {
   "cell_type": "code",
   "execution_count": null,
   "metadata": {},
   "outputs": [],
   "source": [
    "#定义当误差为最小时保存最优模型，patience=1111表示1111个epoch损失都没有下降那么可以提前停止\n",
    "#lsym.hdf5为保存的模型名称，monitor为观测值也就是val_loss，mode='min'代表最小的val_loss\n",
    "# model1 = Sequential()\n",
    "inputs = Input(shape=(trainx.shape[1], trainx.shape[2]))\n",
    "context1 = GRU(3, return_sequences=True)(inputs)  #lstm神经元数量为48个 激活函数为relu\n",
    "# context1=tensorflow.keras.layers.Dropout(0.5)(context1)\n",
    "atten = attention_3d_block(context1)\n",
    "# con2=Conv1D(48, 3, padding='same')(atten )\n",
    "# atten=tensorflow.keras.layers.GlobalAveragePooling1D()(con2)\n",
    "atten = Flatten()(atten)\n",
    "x = Dense(128, activation='relu')(atten)# 全连接层,全连接层神经元维度为48\n",
    "x = Dense(128, activation='relu')(x)# 全连接层,全连接层神经元维度为48\n",
    "x = Dense(128, activation='relu')(x)# 全连接层,全连接层神经元维度为48\n",
    "# x = Dense(1024, activation='relu')(x)# 全连接层,全连接层神经元维度为48\n",
    "output = Dense(1, activation='relu')(x)  #softmax层\n",
    "model = Model(inputs=[inputs], outputs=output)\n",
    "model.compile(loss='mean_squared_error', optimizer='adam',metrics =[\"mae\"])   #损失为mse ，优化器为adam\n",
    "#model.summary()\n",
    "\n",
    "# fit network\n",
    "LSTM = model.fit(trainx, trainy, epochs=300, batch_size=32, callbacks=callbacks,\n",
    "                 validation_data=(X_test, y_test), verbose=1)\n",
    "#callbacks为上面定义的保存最优模型用的，validation_data为验证集，verbose代表每个epoch都打印\n",
    "\n",
    "model_new = load_model(\"model.hdf5\")  #加载最好的模型\n",
    "model_new.evaluate(testx, testy) \n",
    "model.evaluate(testx, testy)  #计算测试集的val_loss\n",
    "y_pre=list(np.squeeze(model.predict(testx)))\n",
    "\n",
    "y_pre = pd.Series(np.array(y_pre))\n",
    "y_test = pd.Series(np.array(testy))\n"
   ]
  },
  {
   "cell_type": "code",
   "execution_count": null,
   "metadata": {},
   "outputs": [],
   "source": [
    "df = pd.DataFrame({'y_pre':y_pre,'y_test':y_test})\n",
    "\n",
    "#评价指标\n",
    "def mape(test_y,predict_y):\n",
    "    return np.mean(np.abs(((predict_y-test_y)/test_y)))*100\n",
    "\n",
    "r2 = r2_score(y_pre,y_test)\n",
    "rmse = np.sqrt(mean_squared_error(y_pre,y_test))\n",
    "mae = mean_absolute_error(y_pre,y_test)\n",
    "\n",
    "print(' R2 : %.5F'  %(r2))           \n",
    "print(' MAE : %.5f ' %(mae))\n",
    "print(' RMSE : %.5f ' %(rmse))\n",
    "print(' MAPE : %.5f ' %((mape(y_pre,y_test))))\n",
    "\n",
    "sns.set()\n",
    "fig,ax = plt.subplots(figsize=(13,8))\n",
    "ax.plot(y_test,c='r',label='True')\n",
    "ax.plot(y_pre,c='g',label='Predict')\n",
    "ax.legend()"
   ]
  }
 ],
 "metadata": {
  "kernelspec": {
   "name": "python377jvsc74a57bd0811a9f506ce08f94ffd04fc0f870f343fc34a33034f0311191780b6271c94df4",
   "display_name": "Python 3.7.7 64-bit ('Course1': conda)"
  },
  "language_info": {
   "codemirror_mode": {
    "name": "ipython",
    "version": 3
   },
   "file_extension": ".py",
   "mimetype": "text/x-python",
   "name": "python",
   "nbconvert_exporter": "python",
   "pygments_lexer": "ipython3",
   "version": "3.7.7"
  },
  "pycharm": {
   "stem_cell": {
    "cell_type": "raw",
    "metadata": {
     "collapsed": false
    },
    "source": []
   }
  }
 },
 "nbformat": 4,
 "nbformat_minor": 4
}